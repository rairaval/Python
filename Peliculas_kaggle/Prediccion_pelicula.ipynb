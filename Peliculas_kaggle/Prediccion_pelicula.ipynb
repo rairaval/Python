{
 "cells": [
  {
   "cell_type": "code",
   "execution_count": 1,
   "metadata": {},
   "outputs": [],
   "source": [
    "import sys\n",
    "# Para trabajar local\n",
    "sys.path.append('C:/Users/raul/Documents/Data Science Proyectos/Machine_Learning_ampliado/machine_learning_practico-clase-3/machine_learning_practico-clase-3/lib')"
   ]
  },
  {
   "cell_type": "markdown",
   "metadata": {},
   "source": [
    "## Cargamos los datos"
   ]
  },
  {
   "cell_type": "code",
   "execution_count": 11,
   "metadata": {},
   "outputs": [],
   "source": [
    "from pathlib import Path"
   ]
  },
  {
   "cell_type": "code",
   "execution_count": 12,
   "metadata": {},
   "outputs": [],
   "source": [
    "import pandas as pd\n",
    "pd.set_option('display.float_format', lambda x: '%.3f' % x)\n",
    "import numpy as np"
   ]
  },
  {
   "cell_type": "code",
   "execution_count": 13,
   "metadata": {},
   "outputs": [],
   "source": [
    "PATH = Path('C:/Users/raul/Documents/Data Science Proyectos/Datos')\n"
   ]
  },
  {
   "cell_type": "code",
   "execution_count": 14,
   "metadata": {},
   "outputs": [
    {
     "data": {
      "text/plain": [
       "WindowsPath('C:/Users/raul/Documents/Data Science Proyectos/Datos')"
      ]
     },
     "execution_count": 14,
     "metadata": {},
     "output_type": "execute_result"
    }
   ],
   "source": [
    "PATH"
   ]
  },
  {
   "cell_type": "code",
   "execution_count": 15,
   "metadata": {},
   "outputs": [],
   "source": [
    "#movies = pd.read_csv(PATH / 'AllMoviesDetailsCleaned.csv', sep=';', error_bad_lines=False)"
   ]
  },
  {
   "cell_type": "code",
   "execution_count": 16,
   "metadata": {},
   "outputs": [
    {
     "name": "stderr",
     "output_type": "stream",
     "text": [
      "C:\\Users\\raul\\anaconda3\\lib\\site-packages\\IPython\\core\\interactiveshell.py:3146: DtypeWarning: Columns (7) have mixed types.Specify dtype option on import or set low_memory=False.\n",
      "  has_raised = await self.run_ast_nodes(code_ast.body, cell_name,\n"
     ]
    }
   ],
   "source": [
    "movies = pd.read_csv(PATH / 'allmovies.csv', sep=';',encoding='latin-1')"
   ]
  },
  {
   "cell_type": "code",
   "execution_count": 17,
   "metadata": {
    "scrolled": false
   },
   "outputs": [
    {
     "data": {
      "text/html": [
       "<div>\n",
       "<style scoped>\n",
       "    .dataframe tbody tr th:only-of-type {\n",
       "        vertical-align: middle;\n",
       "    }\n",
       "\n",
       "    .dataframe tbody tr th {\n",
       "        vertical-align: top;\n",
       "    }\n",
       "\n",
       "    .dataframe thead th {\n",
       "        text-align: right;\n",
       "    }\n",
       "</style>\n",
       "<table border=\"1\" class=\"dataframe\">\n",
       "  <thead>\n",
       "    <tr style=\"text-align: right;\">\n",
       "      <th></th>\n",
       "      <th>ï..id</th>\n",
       "      <th>budget</th>\n",
       "      <th>genres</th>\n",
       "      <th>imdb_id</th>\n",
       "      <th>original_language</th>\n",
       "      <th>original_title</th>\n",
       "      <th>overview</th>\n",
       "      <th>popularity</th>\n",
       "      <th>production_companies</th>\n",
       "      <th>production_countries</th>\n",
       "      <th>...</th>\n",
       "      <th>status</th>\n",
       "      <th>tagline</th>\n",
       "      <th>title</th>\n",
       "      <th>vote_average</th>\n",
       "      <th>vote_count</th>\n",
       "      <th>production_companies_number</th>\n",
       "      <th>production_countries_number</th>\n",
       "      <th>spoken_languages_number</th>\n",
       "      <th>popularity_2</th>\n",
       "      <th>scientific</th>\n",
       "    </tr>\n",
       "  </thead>\n",
       "  <tbody>\n",
       "    <tr>\n",
       "      <th>0</th>\n",
       "      <td>2</td>\n",
       "      <td>0</td>\n",
       "      <td>Drama|Crime</td>\n",
       "      <td>tt0094675</td>\n",
       "      <td>fi</td>\n",
       "      <td>Ariel</td>\n",
       "      <td>Taisto Kasurinen is a Finnish coal miner whose...</td>\n",
       "      <td>0.823904</td>\n",
       "      <td>Villealfa Filmproduction Oy</td>\n",
       "      <td>Finland</td>\n",
       "      <td>...</td>\n",
       "      <td>Released</td>\n",
       "      <td>NaN</td>\n",
       "      <td>Ariel</td>\n",
       "      <td>7.100</td>\n",
       "      <td>40</td>\n",
       "      <td>2</td>\n",
       "      <td>1</td>\n",
       "      <td>2</td>\n",
       "      <td>0.824</td>\n",
       "      <td>False</td>\n",
       "    </tr>\n",
       "    <tr>\n",
       "      <th>1</th>\n",
       "      <td>3</td>\n",
       "      <td>0</td>\n",
       "      <td>Drama|Comedy</td>\n",
       "      <td>tt0092149</td>\n",
       "      <td>fi</td>\n",
       "      <td>Varjoja paratiisissa</td>\n",
       "      <td>An episode in the life of Nikander, a garbage ...</td>\n",
       "      <td>0.47445</td>\n",
       "      <td>Villealfa Filmproduction Oy</td>\n",
       "      <td>Finland</td>\n",
       "      <td>...</td>\n",
       "      <td>Released</td>\n",
       "      <td>NaN</td>\n",
       "      <td>Shadows in Paradise</td>\n",
       "      <td>7.000</td>\n",
       "      <td>32</td>\n",
       "      <td>1</td>\n",
       "      <td>1</td>\n",
       "      <td>3</td>\n",
       "      <td>0.474</td>\n",
       "      <td>False</td>\n",
       "    </tr>\n",
       "    <tr>\n",
       "      <th>2</th>\n",
       "      <td>5</td>\n",
       "      <td>4000000</td>\n",
       "      <td>Crime|Comedy</td>\n",
       "      <td>tt0113101</td>\n",
       "      <td>en</td>\n",
       "      <td>Four Rooms</td>\n",
       "      <td>It's Ted the Bellhop's first night on the job....</td>\n",
       "      <td>1.698</td>\n",
       "      <td>Miramax Films</td>\n",
       "      <td>United States of America</td>\n",
       "      <td>...</td>\n",
       "      <td>Released</td>\n",
       "      <td>Twelve outrageous guests. Four scandalous requ...</td>\n",
       "      <td>Four Rooms</td>\n",
       "      <td>6.500</td>\n",
       "      <td>485</td>\n",
       "      <td>2</td>\n",
       "      <td>1</td>\n",
       "      <td>1</td>\n",
       "      <td>1.698</td>\n",
       "      <td>False</td>\n",
       "    </tr>\n",
       "    <tr>\n",
       "      <th>3</th>\n",
       "      <td>6</td>\n",
       "      <td>0</td>\n",
       "      <td>Action|Thriller|Crime</td>\n",
       "      <td>tt0107286</td>\n",
       "      <td>en</td>\n",
       "      <td>Judgment Night</td>\n",
       "      <td>While racing to a boxing match, Frank, Mike, J...</td>\n",
       "      <td>1.32287</td>\n",
       "      <td>Universal Pictures</td>\n",
       "      <td>Japan</td>\n",
       "      <td>...</td>\n",
       "      <td>Released</td>\n",
       "      <td>Don't move. Don't whisper. Don't even breathe.</td>\n",
       "      <td>Judgment Night</td>\n",
       "      <td>6.500</td>\n",
       "      <td>69</td>\n",
       "      <td>3</td>\n",
       "      <td>2</td>\n",
       "      <td>1</td>\n",
       "      <td>1.323</td>\n",
       "      <td>False</td>\n",
       "    </tr>\n",
       "    <tr>\n",
       "      <th>4</th>\n",
       "      <td>8</td>\n",
       "      <td>42000</td>\n",
       "      <td>Documentary</td>\n",
       "      <td>tt0825671</td>\n",
       "      <td>en</td>\n",
       "      <td>Life in Loops (A Megacities RMX)</td>\n",
       "      <td>Timo Novotny labels his new project an experim...</td>\n",
       "      <td>0.054716</td>\n",
       "      <td>inLoops</td>\n",
       "      <td>Austria</td>\n",
       "      <td>...</td>\n",
       "      <td>Released</td>\n",
       "      <td>A Megacities remix.</td>\n",
       "      <td>Life in Loops (A Megacities RMX)</td>\n",
       "      <td>6.400</td>\n",
       "      <td>4</td>\n",
       "      <td>1</td>\n",
       "      <td>1</td>\n",
       "      <td>5</td>\n",
       "      <td>0.055</td>\n",
       "      <td>False</td>\n",
       "    </tr>\n",
       "  </tbody>\n",
       "</table>\n",
       "<p>5 rows × 24 columns</p>\n",
       "</div>"
      ],
      "text/plain": [
       "   ï..id   budget                 genres    imdb_id original_language  \\\n",
       "0      2        0            Drama|Crime  tt0094675                fi   \n",
       "1      3        0           Drama|Comedy  tt0092149                fi   \n",
       "2      5  4000000           Crime|Comedy  tt0113101                en   \n",
       "3      6        0  Action|Thriller|Crime  tt0107286                en   \n",
       "4      8    42000            Documentary  tt0825671                en   \n",
       "\n",
       "                     original_title  \\\n",
       "0                             Ariel   \n",
       "1              Varjoja paratiisissa   \n",
       "2                        Four Rooms   \n",
       "3                    Judgment Night   \n",
       "4  Life in Loops (A Megacities RMX)   \n",
       "\n",
       "                                            overview popularity  \\\n",
       "0  Taisto Kasurinen is a Finnish coal miner whose...   0.823904   \n",
       "1  An episode in the life of Nikander, a garbage ...    0.47445   \n",
       "2  It's Ted the Bellhop's first night on the job....      1.698   \n",
       "3  While racing to a boxing match, Frank, Mike, J...    1.32287   \n",
       "4  Timo Novotny labels his new project an experim...   0.054716   \n",
       "\n",
       "          production_companies      production_countries  ...    status  \\\n",
       "0  Villealfa Filmproduction Oy                   Finland  ...  Released   \n",
       "1  Villealfa Filmproduction Oy                   Finland  ...  Released   \n",
       "2                Miramax Films  United States of America  ...  Released   \n",
       "3           Universal Pictures                     Japan  ...  Released   \n",
       "4                      inLoops                   Austria  ...  Released   \n",
       "\n",
       "                                             tagline  \\\n",
       "0                                                NaN   \n",
       "1                                                NaN   \n",
       "2  Twelve outrageous guests. Four scandalous requ...   \n",
       "3     Don't move. Don't whisper. Don't even breathe.   \n",
       "4                                A Megacities remix.   \n",
       "\n",
       "                              title vote_average vote_count  \\\n",
       "0                             Ariel        7.100         40   \n",
       "1               Shadows in Paradise        7.000         32   \n",
       "2                        Four Rooms        6.500        485   \n",
       "3                    Judgment Night        6.500         69   \n",
       "4  Life in Loops (A Megacities RMX)        6.400          4   \n",
       "\n",
       "  production_companies_number production_countries_number  \\\n",
       "0                           2                           1   \n",
       "1                           1                           1   \n",
       "2                           2                           1   \n",
       "3                           3                           2   \n",
       "4                           1                           1   \n",
       "\n",
       "   spoken_languages_number  popularity_2  scientific  \n",
       "0                        2         0.824       False  \n",
       "1                        3         0.474       False  \n",
       "2                        1         1.698       False  \n",
       "3                        1         1.323       False  \n",
       "4                        5         0.055       False  \n",
       "\n",
       "[5 rows x 24 columns]"
      ]
     },
     "execution_count": 17,
     "metadata": {},
     "output_type": "execute_result"
    }
   ],
   "source": [
    "movies.head()"
   ]
  },
  {
   "cell_type": "code",
   "execution_count": 18,
   "metadata": {},
   "outputs": [
    {
     "data": {
      "text/html": [
       "<div>\n",
       "<style scoped>\n",
       "    .dataframe tbody tr th:only-of-type {\n",
       "        vertical-align: middle;\n",
       "    }\n",
       "\n",
       "    .dataframe tbody tr th {\n",
       "        vertical-align: top;\n",
       "    }\n",
       "\n",
       "    .dataframe thead th {\n",
       "        text-align: right;\n",
       "    }\n",
       "</style>\n",
       "<table border=\"1\" class=\"dataframe\">\n",
       "  <thead>\n",
       "    <tr style=\"text-align: right;\">\n",
       "      <th></th>\n",
       "      <th>production_companies_number</th>\n",
       "    </tr>\n",
       "  </thead>\n",
       "  <tbody>\n",
       "    <tr>\n",
       "      <th>0</th>\n",
       "      <td>2</td>\n",
       "    </tr>\n",
       "    <tr>\n",
       "      <th>1</th>\n",
       "      <td>1</td>\n",
       "    </tr>\n",
       "    <tr>\n",
       "      <th>2</th>\n",
       "      <td>2</td>\n",
       "    </tr>\n",
       "    <tr>\n",
       "      <th>3</th>\n",
       "      <td>3</td>\n",
       "    </tr>\n",
       "    <tr>\n",
       "      <th>4</th>\n",
       "      <td>1</td>\n",
       "    </tr>\n",
       "    <tr>\n",
       "      <th>...</th>\n",
       "      <td>...</td>\n",
       "    </tr>\n",
       "    <tr>\n",
       "      <th>329039</th>\n",
       "      <td>1</td>\n",
       "    </tr>\n",
       "    <tr>\n",
       "      <th>329040</th>\n",
       "      <td>1</td>\n",
       "    </tr>\n",
       "    <tr>\n",
       "      <th>329041</th>\n",
       "      <td>0</td>\n",
       "    </tr>\n",
       "    <tr>\n",
       "      <th>329042</th>\n",
       "      <td>0</td>\n",
       "    </tr>\n",
       "    <tr>\n",
       "      <th>329043</th>\n",
       "      <td>0</td>\n",
       "    </tr>\n",
       "  </tbody>\n",
       "</table>\n",
       "<p>329044 rows × 1 columns</p>\n",
       "</div>"
      ],
      "text/plain": [
       "        production_companies_number\n",
       "0                                 2\n",
       "1                                 1\n",
       "2                                 2\n",
       "3                                 3\n",
       "4                                 1\n",
       "...                             ...\n",
       "329039                            1\n",
       "329040                            1\n",
       "329041                            0\n",
       "329042                            0\n",
       "329043                            0\n",
       "\n",
       "[329044 rows x 1 columns]"
      ]
     },
     "execution_count": 18,
     "metadata": {},
     "output_type": "execute_result"
    }
   ],
   "source": [
    "movies[['production_companies_number']]"
   ]
  },
  {
   "cell_type": "code",
   "execution_count": 19,
   "metadata": {},
   "outputs": [],
   "source": [
    "a = movies #guardo el dataframe"
   ]
  },
  {
   "cell_type": "code",
   "execution_count": 20,
   "metadata": {},
   "outputs": [
    {
     "data": {
      "text/plain": [
       "ï..id                          329044\n",
       "budget                         329044\n",
       "genres                         207515\n",
       "imdb_id                        250564\n",
       "original_language              328841\n",
       "original_title                 329043\n",
       "overview                       278060\n",
       "popularity                     329044\n",
       "production_companies           329044\n",
       "production_countries           329044\n",
       "release_date                   304998\n",
       "revenue                        329044\n",
       "runtime                        292252\n",
       "spoken_languages               324584\n",
       "status                         327056\n",
       "tagline                         52931\n",
       "title                          329043\n",
       "vote_average                   329044\n",
       "vote_count                     329044\n",
       "production_companies_number    329044\n",
       "production_countries_number    329044\n",
       "spoken_languages_number        329044\n",
       "popularity_2                   317118\n",
       "scientific                     329044\n",
       "dtype: int64"
      ]
     },
     "execution_count": 20,
     "metadata": {},
     "output_type": "execute_result"
    }
   ],
   "source": [
    "movies.count()"
   ]
  },
  {
   "cell_type": "markdown",
   "metadata": {},
   "source": [
    "24 Variables"
   ]
  },
  {
   "cell_type": "code",
   "execution_count": 21,
   "metadata": {},
   "outputs": [],
   "source": [
    "lista_categoricas = ['genres','original_language','original_title','overview','production_companies','production_countries','spoken_languages','status','tagline','title','production_companies_number','production_countries_number','spoken_languages_number']  \n",
    "lista_numerica = ['ï..id','imdb_id','popularity','release_date','revenue','runtime','vote_average','vote_count','popularity_2']"
   ]
  },
  {
   "cell_type": "code",
   "execution_count": 22,
   "metadata": {},
   "outputs": [
    {
     "name": "stdout",
     "output_type": "stream",
     "text": [
      "Drama                                       30190\n",
      "Documentary                                 25532\n",
      "Comedy                                      22568\n",
      "Music                                        8030\n",
      "Animation                                    6341\n",
      "                                            ...  \n",
      "TV Movie|Action|Drama|Family                    1\n",
      "Family|Action|Adventure|Comedy|Animation        1\n",
      "Comedy|Drama|Romance|Family                     1\n",
      "Comedy|Fantasy|War                              1\n",
      "Crime|Thriller|Western|Action                   1\n",
      "Name: genres, Length: 7619, dtype: int64\n",
      "en    216831\n",
      "de     20465\n",
      "fr     14734\n",
      "es     12004\n",
      "ja      8393\n",
      "       ...  \n",
      "aa         1\n",
      "ty         1\n",
      "ie         1\n",
      "hz         1\n",
      "sg         1\n",
      "Name: original_language, Length: 134, dtype: int64\n",
      "Carmen                              38\n",
      "Macbeth                             25\n",
      "Solo                                20\n",
      "Home                                20\n",
      "Blackout                            20\n",
      "                                    ..\n",
      "Black Road                           1\n",
      "Ultima Thule DVD                     1\n",
      "Battling over the children           1\n",
      "barre3 Burner with Sadie Lincoln     1\n",
      "The Pest That Came to Dinner         1\n",
      "Name: original_title, Length: 305561, dtype: int64\n",
      "No overview found.                                                                                                                                                                                                                                                                                                                                                                                      1926\n",
      "No Overview                                                                                                                                                                                                                                                                                                                                                                                              427\n",
      "Overview Coming Soon...                                                                                                                                                                                                                                                                                                                                                                                  243\n",
      "What the movie has in store for you, wait and watch this space for more updates.                                                                                                                                                                                                                                                                                                                         233\n",
      "Feature film.                                                                                                                                                                                                                                                                                                                                                                                            108\n",
      "                                                                                                                                                                                                                                                                                                                                                                                                        ... \n",
      "Standup comedian, television star and author Kevin Nealon headlines this new comedy special that finds the new father daunted by fears, insecurities and doubts, but only slightly. Taped before an enthusiastic Denver, Colorado audience, this special finds the popular funny man in top form.                                                                                                          1\n",
      "Lonely Planet Six Degrees explores the world's coolest cities by connecting with the people who live in them. By emphasising the human dimension of travel, Lonely Planet Six Degrees moves beyond sightseeing and offers the surest way of being whisked off your feet and fast-tracked to the heart of the city.                                                                                         1\n",
      "Clotilde dies, and her god-daughter has promised to carry out a final wish for her.. Two gangs of thieves and the cops interfere with her fulfilling the promise.                                                                                                                                                                                                                                          1\n",
      "Originally black-and-white material printed with green filters with a superimposed flicker loop.                                                                                                                                                                                                                                                                                                           1\n",
      "Valerie Chow plays Ling, an attractive young lass studying to be a stewardess. Ling struggles to maintain her studies while being harried by her rich, lecherous classmates and a powerful old man who is hell-bent on having her marry his geeky son (Yu Rongguang). Of course, she eventually meets hunky flight steward Chan Kai-ming (Moses Chan Ho) and true love blooms in the friendly skies.       1\n",
      "Name: overview, Length: 269149, dtype: int64\n",
      "none                         202142\n",
      "Metro-Goldwyn-Mayer (MGM)      1741\n",
      "Warner Bros.                   1728\n",
      "Paramount Pictures             1593\n",
      "Universal Pictures             1375\n",
      "                              ...  \n",
      "Trabelsi Productions              1\n",
      "No Matter Pictures                1\n",
      "Poppyfields Media                 1\n",
      "Black Orange                      1\n",
      "DMB Films Inc.                    1\n",
      "Name: production_companies, Length: 35990, dtype: int64\n",
      "none                        151960\n",
      "United States of America     55504\n",
      "Germany                      15783\n",
      "United Kingdom               12254\n",
      "France                       11401\n",
      "                             ...  \n",
      "US Virgin Islands                1\n",
      "Anguilla                         1\n",
      "Nauru                            1\n",
      "Palau                            1\n",
      "Seychelles                       1\n",
      "Name: production_countries, Length: 235, dtype: int64\n",
      "none           141928\n",
      "English         82557\n",
      "Deutsch         11986\n",
      "FranÃ§ais       11869\n",
      "EspaÃ±ol        11303\n",
      "                ...  \n",
      "Ù¾ÚØªÙ            7\n",
      "Hausa               7\n",
      "Kinyarwanda         5\n",
      "Fulfulde            1\n",
      "Malti               1\n",
      "Name: spoken_languages, Length: 75, dtype: int64\n",
      "Released           322567\n",
      "Post Production      1446\n",
      "Rumored              1232\n",
      "In Production         953\n",
      "Planned               745\n",
      "Canceled              113\n",
      "Name: status, dtype: int64\n",
      "animation short                                                        149\n",
      "Documentary                                                             41\n",
      "Animation, Short                                                        30\n",
      "Classic Albums                                                          29\n",
      "English                                                                 27\n",
      "                                                                      ... \n",
      "Christopher Columbus was in fact Portuguese                              1\n",
      "He was trained to hate until he met the enemy.                           1\n",
      "Feel the heat, keep the feeling burning, let the sensation explode.      1\n",
      "3 Friends. 2 Days. 1 Last Chance To Make It Count.                       1\n",
      "\"Roses are red, Dead bodies are blue...\"                                 1\n",
      "Name: tagline, Length: 51791, dtype: int64\n",
      "Carmen                               40\n",
      "Mother                               35\n",
      "Cinderella                           28\n",
      "Home                                 27\n",
      "Alone                                24\n",
      "                                     ..\n",
      "Pattikkada Pattanama                  1\n",
      "The Blue Iguana                       1\n",
      "Kiss Me and Die                       1\n",
      "Cleaver: Rise of the Killer Clown     1\n",
      "The Pest That Came to Dinner          1\n",
      "Name: title, Length: 296882, dtype: int64\n",
      "0     202142\n",
      "1      88335\n",
      "2      22763\n",
      "3       9517\n",
      "4       3101\n",
      "5       1410\n",
      "6        736\n",
      "7        403\n",
      "8        209\n",
      "9        162\n",
      "10        72\n",
      "11        47\n",
      "12        38\n",
      "16        23\n",
      "13        22\n",
      "14        19\n",
      "15        10\n",
      "17         8\n",
      "19         6\n",
      "20         5\n",
      "21         4\n",
      "22         4\n",
      "18         3\n",
      "26         3\n",
      "25         1\n",
      "24         1\n",
      "Name: production_companies_number, dtype: int64\n",
      "1     159732\n",
      "0     151960\n",
      "2      13079\n",
      "3       3022\n",
      "4        845\n",
      "5        274\n",
      "6         74\n",
      "7         22\n",
      "8         14\n",
      "9          8\n",
      "11         4\n",
      "10         3\n",
      "12         3\n",
      "25         1\n",
      "14         1\n",
      "15         1\n",
      "26         1\n",
      "Name: production_countries_number, dtype: int64\n",
      "1     168114\n",
      "0     141928\n",
      "2      14207\n",
      "3       3383\n",
      "4        957\n",
      "5        291\n",
      "6        101\n",
      "7         30\n",
      "8         16\n",
      "9          9\n",
      "12         2\n",
      "11         2\n",
      "25         1\n",
      "19         1\n",
      "13         1\n",
      "10         1\n",
      "Name: spoken_languages_number, dtype: int64\n"
     ]
    }
   ],
   "source": [
    "for i in lista_categoricas:\n",
    "    print(movies[i].value_counts())"
   ]
  },
  {
   "cell_type": "markdown",
   "metadata": {},
   "source": [
    "## Inspección inicial de los datos. "
   ]
  },
  {
   "cell_type": "code",
   "execution_count": 23,
   "metadata": {},
   "outputs": [
    {
     "data": {
      "text/plain": [
       "ï..id                            int64\n",
       "budget                           int64\n",
       "genres                          object\n",
       "imdb_id                         object\n",
       "original_language               object\n",
       "original_title                  object\n",
       "overview                        object\n",
       "popularity                      object\n",
       "production_companies            object\n",
       "production_countries            object\n",
       "release_date                    object\n",
       "revenue                        float64\n",
       "runtime                        float64\n",
       "spoken_languages                object\n",
       "status                          object\n",
       "tagline                         object\n",
       "title                           object\n",
       "vote_average                   float64\n",
       "vote_count                       int64\n",
       "production_companies_number      int64\n",
       "production_countries_number      int64\n",
       "spoken_languages_number          int64\n",
       "popularity_2                   float64\n",
       "scientific                        bool\n",
       "dtype: object"
      ]
     },
     "execution_count": 23,
     "metadata": {},
     "output_type": "execute_result"
    }
   ],
   "source": [
    "movies.dtypes"
   ]
  },
  {
   "cell_type": "code",
   "execution_count": 24,
   "metadata": {},
   "outputs": [
    {
     "data": {
      "text/plain": [
       "ï..id                               0\n",
       "budget                              0\n",
       "genres                         121529\n",
       "imdb_id                         78480\n",
       "original_language                 203\n",
       "original_title                      1\n",
       "overview                        50984\n",
       "popularity                          0\n",
       "production_companies                0\n",
       "production_countries                0\n",
       "release_date                    24046\n",
       "revenue                             0\n",
       "runtime                         36792\n",
       "spoken_languages                 4460\n",
       "status                           1988\n",
       "tagline                        276113\n",
       "title                               1\n",
       "vote_average                        0\n",
       "vote_count                          0\n",
       "production_companies_number         0\n",
       "production_countries_number         0\n",
       "spoken_languages_number             0\n",
       "popularity_2                    11926\n",
       "scientific                          0\n",
       "dtype: int64"
      ]
     },
     "execution_count": 24,
     "metadata": {},
     "output_type": "execute_result"
    }
   ],
   "source": [
    "movies.isnull().sum()"
   ]
  },
  {
   "cell_type": "code",
   "execution_count": 25,
   "metadata": {},
   "outputs": [],
   "source": [
    "# Me llama la atención la cantidad de generos no especificados. \n",
    "generos_no_especificados = movies[movies['genres'].isnull()]"
   ]
  },
  {
   "cell_type": "markdown",
   "metadata": {},
   "source": [
    "### Detalle de algunas variables"
   ]
  },
  {
   "cell_type": "code",
   "execution_count": 26,
   "metadata": {},
   "outputs": [
    {
     "data": {
      "text/plain": [
       "Released           322567\n",
       "Post Production      1446\n",
       "Rumored              1232\n",
       "In Production         953\n",
       "Planned               745\n",
       "Canceled              113\n",
       "Name: status, dtype: int64"
      ]
     },
     "execution_count": 26,
     "metadata": {},
     "output_type": "execute_result"
    }
   ],
   "source": [
    "#Revisador de variable\n",
    "movies['original_language'].value_counts()\n",
    "movies['status'].value_counts()"
   ]
  },
  {
   "cell_type": "markdown",
   "metadata": {},
   "source": [
    "# Un Breve Resumen de los procedimientos a realizar. "
   ]
  },
  {
   "cell_type": "raw",
   "metadata": {},
   "source": [
    "ï..id : Sin mayor interes analitico                    \n",
    "budget: Esta correcta\n",
    "genres: TRATAR NULOS. Recodificar___ listar las principales y el resto codificarla en Otros. 'One Hot Encoding'\n",
    "imdb_id: Sin mayor interes analitico. Posible para juntar con otros dataset de imdb\n",
    "original_language: TRATAR NULOS. Recodificar___ agrupar las de menor presencia en 'Otros' 'One Hot Encoding'\n",
    "original_title: Sin mayor interes analitico\n",
    "overview: Sin mayor interes analitico (de momento, se podria realizar algun análisis de texto pero no es el objetivo. \n",
    "popularity: Como númerica en 'popularity_2'\n",
    "production_companies: Recodificar___ agrupar las de menor presencia en 'Otros' 'One Hot Encoding'\n",
    "production_countries: Recodificar___ agrupar las de menor presencia en 'Otros' 'One Hot Encoding' Dummy\n",
    "release_date: TRATAR NULOS. Tomar unicamente el año.\n",
    "revenue: Llevarla a númerica.\n",
    "runtime: TRATAR NULOS. Llevarla a númerica. **Tratar datos atípicos** y valor 0\n",
    "spoken_languages: TRATAR NULOS. Recodificar___ agrupar Ingles y 'otros'. Gran precencia de none. 'One Hot Encoding'\n",
    "status: TRATAR NULOS. 'One Hot Encoding'Recodificar___ agrupar\n",
    "tagline: Sin mayor interes analitico\n",
    "title: Sin mayor interes analitico\n",
    "vote_average: Llevarla a númerica.\n",
    "vote_count: Llevarla a númerica.\n",
    "production_companies_number: Recodificar___ listar las principales y el resto codificarla en Otros. 'One Hot Encoding'\n",
    "production_countries_number: Recodificar___ listar las principales y el resto codificarla en Otros. 'One Hot Encoding'\n",
    "spoken_languages_number: Recodificar___ listar las principales y el resto codificarla en Otros. 'One Hot Encoding'\n",
    "popularity_2: Llevarla a númerica.\n",
    "scientific: Variable auxiliar.   \n",
    "popularityCheck: Variable auxiliar. \n",
    "release_year: ?\n",
    "\n",
    "Cuando Recodifico 'One Hot Encoding' quitar una de las variables para evitar multicolinealidad perfecta. "
   ]
  },
  {
   "cell_type": "markdown",
   "metadata": {},
   "source": [
    "## Primer abordaje"
   ]
  },
  {
   "cell_type": "markdown",
   "metadata": {},
   "source": [
    "Dejar el dataset sin valores nulos buscando la mejor imputación de valores posible. "
   ]
  },
  {
   "cell_type": "markdown",
   "metadata": {},
   "source": [
    "Analicemos UNICAMENTE LAS 'OBJECTS' RELEVANTES: https://pbpython.com/categorical-encoding.html"
   ]
  },
  {
   "cell_type": "markdown",
   "metadata": {},
   "source": [
    "En muchos datasets habra variables CATEGORICAS. Estas son tipicamente almacenadas como texto. El lenguage original de la pelicula o algunas numericas 'accidentales', como el caso de 'popularity', que por contener notaciòn cientifica se encuentra en type object. El desafio es determinar como usar la data en el analysis, ver como transformar estos atributos de texto en valores numericos para el procesamiento futura (ONE HOT ENCODING).\n",
    "\n",
    "No hay una respuesta unica al abordaje de este tipo de desafios. Cada uno tiene trade-offs y tendra implicancias futuras en el resultado del analisis. Afortunadamente, las herramientas de python/pandas y scikit-learn tienen abordajes que pueden ser aplicados para transformar las variables categoricas en adecuadas variables numéricas. "
   ]
  },
  {
   "cell_type": "markdown",
   "metadata": {},
   "source": [
    "Antes de comenzar a codificar los distintos valores hacer algunas limpiezas menores. Afortunadamente, pandas hace que esto sea sencillo:"
   ]
  },
  {
   "cell_type": "code",
   "execution_count": 27,
   "metadata": {},
   "outputs": [
    {
     "data": {
      "text/html": [
       "<div>\n",
       "<style scoped>\n",
       "    .dataframe tbody tr th:only-of-type {\n",
       "        vertical-align: middle;\n",
       "    }\n",
       "\n",
       "    .dataframe tbody tr th {\n",
       "        vertical-align: top;\n",
       "    }\n",
       "\n",
       "    .dataframe thead th {\n",
       "        text-align: right;\n",
       "    }\n",
       "</style>\n",
       "<table border=\"1\" class=\"dataframe\">\n",
       "  <thead>\n",
       "    <tr style=\"text-align: right;\">\n",
       "      <th></th>\n",
       "      <th>genres</th>\n",
       "      <th>imdb_id</th>\n",
       "      <th>original_language</th>\n",
       "      <th>original_title</th>\n",
       "      <th>overview</th>\n",
       "      <th>popularity</th>\n",
       "      <th>production_companies</th>\n",
       "      <th>production_countries</th>\n",
       "      <th>release_date</th>\n",
       "      <th>spoken_languages</th>\n",
       "      <th>status</th>\n",
       "      <th>tagline</th>\n",
       "      <th>title</th>\n",
       "    </tr>\n",
       "  </thead>\n",
       "  <tbody>\n",
       "    <tr>\n",
       "      <th>0</th>\n",
       "      <td>Drama|Crime</td>\n",
       "      <td>tt0094675</td>\n",
       "      <td>fi</td>\n",
       "      <td>Ariel</td>\n",
       "      <td>Taisto Kasurinen is a Finnish coal miner whose...</td>\n",
       "      <td>0.823904</td>\n",
       "      <td>Villealfa Filmproduction Oy</td>\n",
       "      <td>Finland</td>\n",
       "      <td>21/10/1988</td>\n",
       "      <td>suomi</td>\n",
       "      <td>Released</td>\n",
       "      <td>NaN</td>\n",
       "      <td>Ariel</td>\n",
       "    </tr>\n",
       "    <tr>\n",
       "      <th>1</th>\n",
       "      <td>Drama|Comedy</td>\n",
       "      <td>tt0092149</td>\n",
       "      <td>fi</td>\n",
       "      <td>Varjoja paratiisissa</td>\n",
       "      <td>An episode in the life of Nikander, a garbage ...</td>\n",
       "      <td>0.47445</td>\n",
       "      <td>Villealfa Filmproduction Oy</td>\n",
       "      <td>Finland</td>\n",
       "      <td>16/10/1986</td>\n",
       "      <td>English</td>\n",
       "      <td>Released</td>\n",
       "      <td>NaN</td>\n",
       "      <td>Shadows in Paradise</td>\n",
       "    </tr>\n",
       "    <tr>\n",
       "      <th>2</th>\n",
       "      <td>Crime|Comedy</td>\n",
       "      <td>tt0113101</td>\n",
       "      <td>en</td>\n",
       "      <td>Four Rooms</td>\n",
       "      <td>It's Ted the Bellhop's first night on the job....</td>\n",
       "      <td>1.698</td>\n",
       "      <td>Miramax Films</td>\n",
       "      <td>United States of America</td>\n",
       "      <td>25/12/1995</td>\n",
       "      <td>English</td>\n",
       "      <td>Released</td>\n",
       "      <td>Twelve outrageous guests. Four scandalous requ...</td>\n",
       "      <td>Four Rooms</td>\n",
       "    </tr>\n",
       "    <tr>\n",
       "      <th>3</th>\n",
       "      <td>Action|Thriller|Crime</td>\n",
       "      <td>tt0107286</td>\n",
       "      <td>en</td>\n",
       "      <td>Judgment Night</td>\n",
       "      <td>While racing to a boxing match, Frank, Mike, J...</td>\n",
       "      <td>1.32287</td>\n",
       "      <td>Universal Pictures</td>\n",
       "      <td>Japan</td>\n",
       "      <td>15/10/1993</td>\n",
       "      <td>English</td>\n",
       "      <td>Released</td>\n",
       "      <td>Don't move. Don't whisper. Don't even breathe.</td>\n",
       "      <td>Judgment Night</td>\n",
       "    </tr>\n",
       "    <tr>\n",
       "      <th>4</th>\n",
       "      <td>Documentary</td>\n",
       "      <td>tt0825671</td>\n",
       "      <td>en</td>\n",
       "      <td>Life in Loops (A Megacities RMX)</td>\n",
       "      <td>Timo Novotny labels his new project an experim...</td>\n",
       "      <td>0.054716</td>\n",
       "      <td>inLoops</td>\n",
       "      <td>Austria</td>\n",
       "      <td>01/01/2006</td>\n",
       "      <td>English</td>\n",
       "      <td>Released</td>\n",
       "      <td>A Megacities remix.</td>\n",
       "      <td>Life in Loops (A Megacities RMX)</td>\n",
       "    </tr>\n",
       "  </tbody>\n",
       "</table>\n",
       "</div>"
      ],
      "text/plain": [
       "                  genres    imdb_id original_language  \\\n",
       "0            Drama|Crime  tt0094675                fi   \n",
       "1           Drama|Comedy  tt0092149                fi   \n",
       "2           Crime|Comedy  tt0113101                en   \n",
       "3  Action|Thriller|Crime  tt0107286                en   \n",
       "4            Documentary  tt0825671                en   \n",
       "\n",
       "                     original_title  \\\n",
       "0                             Ariel   \n",
       "1              Varjoja paratiisissa   \n",
       "2                        Four Rooms   \n",
       "3                    Judgment Night   \n",
       "4  Life in Loops (A Megacities RMX)   \n",
       "\n",
       "                                            overview popularity  \\\n",
       "0  Taisto Kasurinen is a Finnish coal miner whose...   0.823904   \n",
       "1  An episode in the life of Nikander, a garbage ...    0.47445   \n",
       "2  It's Ted the Bellhop's first night on the job....      1.698   \n",
       "3  While racing to a boxing match, Frank, Mike, J...    1.32287   \n",
       "4  Timo Novotny labels his new project an experim...   0.054716   \n",
       "\n",
       "          production_companies      production_countries release_date  \\\n",
       "0  Villealfa Filmproduction Oy                   Finland   21/10/1988   \n",
       "1  Villealfa Filmproduction Oy                   Finland   16/10/1986   \n",
       "2                Miramax Films  United States of America   25/12/1995   \n",
       "3           Universal Pictures                     Japan   15/10/1993   \n",
       "4                      inLoops                   Austria   01/01/2006   \n",
       "\n",
       "  spoken_languages    status  \\\n",
       "0            suomi  Released   \n",
       "1          English  Released   \n",
       "2          English  Released   \n",
       "3          English  Released   \n",
       "4          English  Released   \n",
       "\n",
       "                                             tagline  \\\n",
       "0                                                NaN   \n",
       "1                                                NaN   \n",
       "2  Twelve outrageous guests. Four scandalous requ...   \n",
       "3     Don't move. Don't whisper. Don't even breathe.   \n",
       "4                                A Megacities remix.   \n",
       "\n",
       "                              title  \n",
       "0                             Ariel  \n",
       "1               Shadows in Paradise  \n",
       "2                        Four Rooms  \n",
       "3                    Judgment Night  \n",
       "4  Life in Loops (A Megacities RMX)  "
      ]
     },
     "execution_count": 27,
     "metadata": {},
     "output_type": "execute_result"
    }
   ],
   "source": [
    "obj_movies = movies.select_dtypes(include=['object']).copy()\n",
    "obj_movies.head()"
   ]
  },
  {
   "cell_type": "code",
   "execution_count": 28,
   "metadata": {},
   "outputs": [
    {
     "data": {
      "text/plain": [
       "genres                  121529\n",
       "imdb_id                  78480\n",
       "original_language          203\n",
       "original_title               1\n",
       "overview                 50984\n",
       "popularity                   0\n",
       "production_companies         0\n",
       "production_countries         0\n",
       "release_date             24046\n",
       "spoken_languages          4460\n",
       "status                    1988\n",
       "tagline                 276113\n",
       "title                        1\n",
       "dtype: int64"
      ]
     },
     "execution_count": 28,
     "metadata": {},
     "output_type": "execute_result"
    }
   ],
   "source": [
    "obj_movies.isnull().sum()"
   ]
  },
  {
   "cell_type": "code",
   "execution_count": 29,
   "metadata": {},
   "outputs": [
    {
     "data": {
      "text/plain": [
       "genres                  object\n",
       "imdb_id                 object\n",
       "original_language       object\n",
       "original_title          object\n",
       "overview                object\n",
       "popularity              object\n",
       "production_companies    object\n",
       "production_countries    object\n",
       "release_date            object\n",
       "spoken_languages        object\n",
       "status                  object\n",
       "tagline                 object\n",
       "title                   object\n",
       "dtype: object"
      ]
     },
     "execution_count": 29,
     "metadata": {},
     "output_type": "execute_result"
    }
   ],
   "source": [
    "obj_movies.dtypes"
   ]
  },
  {
   "cell_type": "markdown",
   "metadata": {},
   "source": [
    "#### imdb_id"
   ]
  },
  {
   "cell_type": "code",
   "execution_count": 30,
   "metadata": {},
   "outputs": [],
   "source": [
    "movies = movies.fillna({\"imdb_id\": 0})"
   ]
  },
  {
   "cell_type": "markdown",
   "metadata": {},
   "source": [
    "#### original_title"
   ]
  },
  {
   "cell_type": "code",
   "execution_count": 31,
   "metadata": {},
   "outputs": [],
   "source": [
    "movies = movies.fillna({\"original_title\": \"Sin dato\"})"
   ]
  },
  {
   "cell_type": "markdown",
   "metadata": {},
   "source": [
    "#### overview"
   ]
  },
  {
   "cell_type": "code",
   "execution_count": 32,
   "metadata": {},
   "outputs": [],
   "source": [
    "movies = movies.fillna({\"overview\": \"Sin overview\"})"
   ]
  },
  {
   "cell_type": "markdown",
   "metadata": {},
   "source": [
    "#### Lenguajes : original y spoken"
   ]
  },
  {
   "cell_type": "code",
   "execution_count": 33,
   "metadata": {},
   "outputs": [
    {
     "data": {
      "text/plain": [
       "array(['fi', 'en', 'de', 'ja', 'es', 'zh', 'fr', 'da', 'ko', 'pl', 'sv',\n",
       "       'it', 'bs', 'pt', 'hi', 'ru', 'no', 'nl', 'cs', 'bn', 'cn', 'af',\n",
       "       'sr', 'mn', 'et', 'el', 'is', 'ro', 'fa', 'th', 'he', 'tr', 'bg',\n",
       "       'ab', 'zu', 'ar', 'hu', 'hr', 'ta', 'am', 'lt', 'nb', 'xx', 'bo',\n",
       "       'ps', 'sl', 'vi', 'pa', 'ml', 'sk', 'sh', 'te', 'id', 'tl', 'mr',\n",
       "       'uk', 'ka', 'cu', nan, 'ur', 'lv', 'ms', 'kn', 'bm', 'ca', 'la',\n",
       "       'ku', 'mo', 'eu', 'fo', 'mk', 'rw', 'ky', 'eo', 'az', 'jv', 'sq',\n",
       "       'aa', 'wo', 'sm', 'xh', 'kk', 'si', 'uz', 'gd', 'tk', 'lo', 'mt',\n",
       "       'tg', 'ga', 'kl', 'cr', 'hy', 'km', 'ay', 'gl', 'ia', 'be', 'cy',\n",
       "       'ne', 'ig', 'lb', 'iu', 'mg', 'mh', 'ty', 'qu', 'fy', 'my', 'so',\n",
       "       'yi', 'co', 'sa', 'dv', 'gu', 'sn', 'ch', 'ha', 'mi', 'as', 'ak',\n",
       "       'za', 'sg', 'sw', 'hz', 'ht', 'gn', 'ie', 'st', 'dz', 'ee', 'oj',\n",
       "       'or', 'su', 'se'], dtype=object)"
      ]
     },
     "execution_count": 33,
     "metadata": {},
     "output_type": "execute_result"
    }
   ],
   "source": [
    "movies['original_language'].unique()"
   ]
  },
  {
   "cell_type": "code",
   "execution_count": 34,
   "metadata": {},
   "outputs": [],
   "source": [
    "# Otro abodaje posible es poner a los 4 o 5 idiomas principales y al resto en 'otros' y hacer un OHE\n",
    "movies['original_language'] = np.where(movies['original_language'].str.contains('en'),1,0)"
   ]
  },
  {
   "cell_type": "code",
   "execution_count": 35,
   "metadata": {},
   "outputs": [
    {
     "data": {
      "text/plain": [
       "1    217034\n",
       "0    112010\n",
       "Name: original_language, dtype: int64"
      ]
     },
     "execution_count": 35,
     "metadata": {},
     "output_type": "execute_result"
    }
   ],
   "source": [
    "movies['original_language'].value_counts()"
   ]
  },
  {
   "cell_type": "code",
   "execution_count": 36,
   "metadata": {},
   "outputs": [],
   "source": [
    "# Otro abodaje posible es poner a los 4 o 5 idiomas principales y al resto en 'otros' y hacer un OHE\n",
    "movies['spoken_languages'] = np.where(movies['spoken_languages'].str.contains('English'),1,0)"
   ]
  },
  {
   "cell_type": "code",
   "execution_count": 37,
   "metadata": {},
   "outputs": [
    {
     "data": {
      "text/plain": [
       "0    242027\n",
       "1     87017\n",
       "Name: spoken_languages, dtype: int64"
      ]
     },
     "execution_count": 37,
     "metadata": {},
     "output_type": "execute_result"
    }
   ],
   "source": [
    "movies['spoken_languages'].value_counts()"
   ]
  },
  {
   "cell_type": "markdown",
   "metadata": {},
   "source": [
    "#### Fechas"
   ]
  },
  {
   "cell_type": "code",
   "execution_count": 38,
   "metadata": {},
   "outputs": [
    {
     "data": {
      "text/plain": [
       "01/01/2006    1529\n",
       "01/01/2005    1525\n",
       "01/01/2010    1516\n",
       "01/01/2008    1496\n",
       "01/01/2009    1470\n",
       "              ... \n",
       "31/12/2022       1\n",
       "04/08/1947       1\n",
       "13/04/1952       1\n",
       "05/11/1930       1\n",
       "14/05/1913       1\n",
       "Name: release_date, Length: 35608, dtype: int64"
      ]
     },
     "execution_count": 38,
     "metadata": {},
     "output_type": "execute_result"
    }
   ],
   "source": [
    "#release_date\n",
    "#La fecha de release mas frecuente\n",
    "# DOS VARIABLES PUEDO SACAR DE AQUI: AÑO Y MES DE LANZAMIENTO (ESTACIONALIDAD)\n",
    "movies[\"release_date\"].value_counts()"
   ]
  },
  {
   "cell_type": "code",
   "execution_count": 39,
   "metadata": {},
   "outputs": [],
   "source": [
    "#ONE AL MES Y NUMERICA AL AÑO\n",
    "\n",
    "from datetime import datetime\n",
    "\n",
    "movies['release_date'] = pd.to_datetime(movies['release_date'])\n",
    "movies['release_anio'] = pd.DatetimeIndex(movies['release_date']).year #a numeric\n",
    "movies['release_mes'] = pd.DatetimeIndex(movies['release_date']).month #a OHE\n"
   ]
  },
  {
   "cell_type": "code",
   "execution_count": 40,
   "metadata": {},
   "outputs": [],
   "source": [
    "movies['release_anio'] = movies['release_anio'].fillna((movies['release_anio'].mean()))\n",
    "movies['release_anio'] = movies['release_anio'].astype(int)"
   ]
  },
  {
   "cell_type": "code",
   "execution_count": 41,
   "metadata": {},
   "outputs": [],
   "source": [
    "#No funciona\n",
    "#nuevo = pd.get_dummies(obj_movies, columns=[\"release_mes\"], prefix=[\"mes\"]).head()\n",
    "#nuevo.count()"
   ]
  },
  {
   "cell_type": "markdown",
   "metadata": {},
   "source": [
    "Usually, we want this to be part of the original dataframe. In this case, we attach our new dummy coded frame onto the original frame using \"column-binding."
   ]
  },
  {
   "cell_type": "code",
   "execution_count": 42,
   "metadata": {},
   "outputs": [],
   "source": [
    "movies = pd.get_dummies(movies, columns=[\"release_mes\"], prefix=[\"mes\"])\n",
    "#obj_movies = pd.concat([obj_movies, mes_dummies], axis=1)"
   ]
  },
  {
   "cell_type": "code",
   "execution_count": 72,
   "metadata": {},
   "outputs": [
    {
     "data": {
      "text/plain": [
       "ï..id                          329044\n",
       "budget                         329044\n",
       "genres                         329044\n",
       "imdb_id                        329044\n",
       "original_language              329044\n",
       "original_title                 329044\n",
       "overview                       329044\n",
       "popularity                     329044\n",
       "production_companies           329044\n",
       "production_countries           329044\n",
       "release_date                   304998\n",
       "revenue                        329044\n",
       "runtime                        292252\n",
       "spoken_languages               329044\n",
       "status                         329044\n",
       "tagline                         52931\n",
       "title                          329043\n",
       "vote_average                   329044\n",
       "vote_count                     329044\n",
       "production_companies_number    329044\n",
       "production_countries_number    329044\n",
       "spoken_languages_number        329044\n",
       "popularity_2                   317118\n",
       "scientific                     329044\n",
       "release_anio                   329044\n",
       "mes_1.0                        329044\n",
       "mes_2.0                        329044\n",
       "mes_3.0                        329044\n",
       "mes_4.0                        329044\n",
       "mes_5.0                        329044\n",
       "mes_6.0                        329044\n",
       "mes_7.0                        329044\n",
       "mes_8.0                        329044\n",
       "mes_9.0                        329044\n",
       "mes_10.0                       329044\n",
       "mes_11.0                       329044\n",
       "mes_12.0                       329044\n",
       "genres_2                       329044\n",
       "dtype: int64"
      ]
     },
     "execution_count": 72,
     "metadata": {},
     "output_type": "execute_result"
    }
   ],
   "source": [
    "movies.count()"
   ]
  },
  {
   "cell_type": "markdown",
   "metadata": {},
   "source": [
    "#### Status"
   ]
  },
  {
   "cell_type": "markdown",
   "metadata": {},
   "source": [
    "Separemos las Released de las que no. "
   ]
  },
  {
   "cell_type": "code",
   "execution_count": 44,
   "metadata": {},
   "outputs": [
    {
     "data": {
      "text/plain": [
       "Released           322567\n",
       "Post Production      1446\n",
       "Rumored              1232\n",
       "In Production         953\n",
       "Planned               745\n",
       "Canceled              113\n",
       "Name: status, dtype: int64"
      ]
     },
     "execution_count": 44,
     "metadata": {},
     "output_type": "execute_result"
    }
   ],
   "source": [
    "movies['status'].value_counts()"
   ]
  },
  {
   "cell_type": "code",
   "execution_count": 45,
   "metadata": {},
   "outputs": [],
   "source": [
    "#obj_movies['status'] = np.where(obj_movies['status'].str.contains('Released'),1,0)"
   ]
  },
  {
   "cell_type": "code",
   "execution_count": 46,
   "metadata": {},
   "outputs": [],
   "source": [
    "movies['status'] = np.where(movies['status'].str.contains('Released'),1,0)"
   ]
  },
  {
   "cell_type": "markdown",
   "metadata": {},
   "source": [
    "### genres :Lo hice en movies."
   ]
  },
  {
   "cell_type": "code",
   "execution_count": 47,
   "metadata": {},
   "outputs": [
    {
     "data": {
      "text/plain": [
       "Drama                                       30190\n",
       "Documentary                                 25532\n",
       "Comedy                                      22568\n",
       "Music                                        8030\n",
       "Animation                                    6341\n",
       "                                            ...  \n",
       "TV Movie|Action|Drama|Family                    1\n",
       "Family|Action|Adventure|Comedy|Animation        1\n",
       "Comedy|Drama|Romance|Family                     1\n",
       "Comedy|Fantasy|War                              1\n",
       "Crime|Thriller|Western|Action                   1\n",
       "Name: genres, Length: 7619, dtype: int64"
      ]
     },
     "execution_count": 47,
     "metadata": {},
     "output_type": "execute_result"
    }
   ],
   "source": [
    "movies['genres'].value_counts()"
   ]
  },
  {
   "cell_type": "markdown",
   "metadata": {},
   "source": [
    "Tengo 7620 generos distintos en el dataset"
   ]
  },
  {
   "cell_type": "code",
   "execution_count": 48,
   "metadata": {},
   "outputs": [
    {
     "data": {
      "text/plain": [
       "121529"
      ]
     },
     "execution_count": 48,
     "metadata": {},
     "output_type": "execute_result"
    }
   ],
   "source": [
    "genres_nulos=movies['genres'].isnull().sum()\n",
    "genres_nulos"
   ]
  },
  {
   "cell_type": "code",
   "execution_count": 49,
   "metadata": {},
   "outputs": [
    {
     "data": {
      "text/plain": [
       "36.93396627806615"
      ]
     },
     "execution_count": 49,
     "metadata": {},
     "output_type": "execute_result"
    }
   ],
   "source": [
    "per_genres_nulos = genres_nulos/len(movies)\n",
    "per_genres_nulos*100"
   ]
  },
  {
   "cell_type": "markdown",
   "metadata": {},
   "source": [
    "casi el 37% son valores nulos. "
   ]
  },
  {
   "cell_type": "raw",
   "metadata": {},
   "source": [
    "Podría tomar varios caminos, unos mas sencillos que otros.\n",
    "\n",
    "1) El mas sencillo sería imputar los valores missiong con el valor mas frecuente de la columna genres, lo sierto es que es mas rápido pero no lo mas correcto.\n",
    "\n",
    "2) Otro sería crear una nueva categoría para ese 37% en especifico. Llamada por ejemplo 'desconocido'. No asumo nada sobre los datos nulos.\n",
    "\n",
    "3) El camino mas Largo sería hacer un aprendizaje no supervisado (clustering) y asignarle los valores nulos en grupos mas homogeneos. Importante destacar que se trata de una variable categòrica y que el 36 % de los datos es una cantidad relevante. Para ello tendría que tener todo el dataset 'limpio' lo hare al final del analisis. "
   ]
  },
  {
   "cell_type": "markdown",
   "metadata": {},
   "source": [
    "###### genres -  opción 2"
   ]
  },
  {
   "cell_type": "code",
   "execution_count": 50,
   "metadata": {},
   "outputs": [],
   "source": [
    "#1. Función para imputar los valores nulos con una nueva categoría nueva.\n",
    "def impute_nan_create_category(DataFrame,ColName):\n",
    "     DataFrame[ColName] = np.where(DataFrame[ColName].isnull(),\"desconocido\",DataFrame[ColName])"
   ]
  },
  {
   "cell_type": "markdown",
   "metadata": {},
   "source": [
    "Miro un poco mas en desconocido"
   ]
  },
  {
   "cell_type": "code",
   "execution_count": 51,
   "metadata": {},
   "outputs": [],
   "source": [
    "es_desconocido =  movies['genres']=='desconocido'"
   ]
  },
  {
   "cell_type": "code",
   "execution_count": 52,
   "metadata": {},
   "outputs": [],
   "source": [
    "# filter rows for year 2002 using  the boolean variable\n",
    "genres_desconocido = movies[es_desconocido]"
   ]
  },
  {
   "cell_type": "code",
   "execution_count": 55,
   "metadata": {},
   "outputs": [],
   "source": [
    "#for i in lista_categoricas:\n",
    " #   print(genres_desconocido[i].value_counts().idxmax())"
   ]
  },
  {
   "cell_type": "code",
   "execution_count": 56,
   "metadata": {},
   "outputs": [],
   "source": [
    "#for i in lista_numerica:\n",
    " #   print(genres_desconocido[i].value_counts().idxmax())"
   ]
  },
  {
   "cell_type": "markdown",
   "metadata": {},
   "source": [
    "Su popularidad y otras variables numericas mas frecuentes son 0"
   ]
  },
  {
   "cell_type": "markdown",
   "metadata": {},
   "source": [
    "Pasare las categorías principales a numerica:"
   ]
  },
  {
   "cell_type": "code",
   "execution_count": 57,
   "metadata": {},
   "outputs": [],
   "source": [
    "## Llamamos a la función para crear una nueva categoria a las variables\n",
    "for Columns in ['genres']:#podria agragar mas columnas para hacer la asignación. \n",
    "    impute_nan_create_category(movies,'genres')"
   ]
  },
  {
   "cell_type": "code",
   "execution_count": 58,
   "metadata": {},
   "outputs": [
    {
     "data": {
      "text/html": [
       "<div>\n",
       "<style scoped>\n",
       "    .dataframe tbody tr th:only-of-type {\n",
       "        vertical-align: middle;\n",
       "    }\n",
       "\n",
       "    .dataframe tbody tr th {\n",
       "        vertical-align: top;\n",
       "    }\n",
       "\n",
       "    .dataframe thead th {\n",
       "        text-align: right;\n",
       "    }\n",
       "</style>\n",
       "<table border=\"1\" class=\"dataframe\">\n",
       "  <thead>\n",
       "    <tr style=\"text-align: right;\">\n",
       "      <th></th>\n",
       "      <th>genres</th>\n",
       "    </tr>\n",
       "  </thead>\n",
       "  <tbody>\n",
       "    <tr>\n",
       "      <th>0</th>\n",
       "      <td>Drama|Crime</td>\n",
       "    </tr>\n",
       "    <tr>\n",
       "      <th>1</th>\n",
       "      <td>Drama|Comedy</td>\n",
       "    </tr>\n",
       "    <tr>\n",
       "      <th>2</th>\n",
       "      <td>Crime|Comedy</td>\n",
       "    </tr>\n",
       "    <tr>\n",
       "      <th>3</th>\n",
       "      <td>Action|Thriller|Crime</td>\n",
       "    </tr>\n",
       "    <tr>\n",
       "      <th>4</th>\n",
       "      <td>Documentary</td>\n",
       "    </tr>\n",
       "    <tr>\n",
       "      <th>5</th>\n",
       "      <td>Drama</td>\n",
       "    </tr>\n",
       "    <tr>\n",
       "      <th>6</th>\n",
       "      <td>Adventure|Action|Science Fiction</td>\n",
       "    </tr>\n",
       "    <tr>\n",
       "      <th>7</th>\n",
       "      <td>Animation|Family</td>\n",
       "    </tr>\n",
       "    <tr>\n",
       "      <th>8</th>\n",
       "      <td>Comedy|Drama|Romance</td>\n",
       "    </tr>\n",
       "    <tr>\n",
       "      <th>9</th>\n",
       "      <td>Drama</td>\n",
       "    </tr>\n",
       "  </tbody>\n",
       "</table>\n",
       "</div>"
      ],
      "text/plain": [
       "                             genres\n",
       "0                       Drama|Crime\n",
       "1                      Drama|Comedy\n",
       "2                      Crime|Comedy\n",
       "3             Action|Thriller|Crime\n",
       "4                       Documentary\n",
       "5                             Drama\n",
       "6  Adventure|Action|Science Fiction\n",
       "7                  Animation|Family\n",
       "8              Comedy|Drama|Romance\n",
       "9                             Drama"
      ]
     },
     "execution_count": 58,
     "metadata": {},
     "output_type": "execute_result"
    }
   ],
   "source": [
    "#2. Display result\n",
    "movies[['genres']].head(10)"
   ]
  },
  {
   "cell_type": "code",
   "execution_count": 59,
   "metadata": {},
   "outputs": [
    {
     "data": {
      "text/plain": [
       "genres                              \n",
       "desconocido                             121529\n",
       "Drama                                    30190\n",
       "Documentary                              25532\n",
       "Comedy                                   22568\n",
       "Music                                     8030\n",
       "                                         ...  \n",
       "Crime|TV Movie|Drama                         1\n",
       "Crime|TV Movie|Documentary                   1\n",
       "Crime|TV Movie|Comedy                        1\n",
       "Crime|TV Movie|Action|Adventure              1\n",
       "Drama|Horror|Science Fiction|Fantasy         1\n",
       "Length: 7620, dtype: int64"
      ]
     },
     "execution_count": 59,
     "metadata": {},
     "output_type": "execute_result"
    }
   ],
   "source": [
    "movies[['genres']].value_counts()"
   ]
  },
  {
   "cell_type": "code",
   "execution_count": 60,
   "metadata": {},
   "outputs": [],
   "source": [
    "movies.loc[movies.genres == \"Drama\", \"genres\"] = 1\n",
    "movies.loc[movies.genres == \"Documentary\", \"genres\"] = 2\n",
    "movies.loc[movies.genres == \"Comedy\", \"genres\"] = 3\n",
    "movies.loc[movies.genres == \"Music\", \"genres\"] = 4"
   ]
  },
  {
   "cell_type": "markdown",
   "metadata": {},
   "source": [
    "Los generos principales como Drama, Documentary, Comedy y Music que sean una sola categoría. "
   ]
  },
  {
   "cell_type": "markdown",
   "metadata": {},
   "source": [
    "Usemos un boolean mask."
   ]
  },
  {
   "cell_type": "code",
   "execution_count": 61,
   "metadata": {},
   "outputs": [],
   "source": [
    "s = movies[['genres']]"
   ]
  },
  {
   "cell_type": "code",
   "execution_count": 62,
   "metadata": {},
   "outputs": [
    {
     "data": {
      "text/html": [
       "<div>\n",
       "<style scoped>\n",
       "    .dataframe tbody tr th:only-of-type {\n",
       "        vertical-align: middle;\n",
       "    }\n",
       "\n",
       "    .dataframe tbody tr th {\n",
       "        vertical-align: top;\n",
       "    }\n",
       "\n",
       "    .dataframe thead th {\n",
       "        text-align: right;\n",
       "    }\n",
       "</style>\n",
       "<table border=\"1\" class=\"dataframe\">\n",
       "  <thead>\n",
       "    <tr style=\"text-align: right;\">\n",
       "      <th></th>\n",
       "      <th>genres</th>\n",
       "    </tr>\n",
       "  </thead>\n",
       "  <tbody>\n",
       "    <tr>\n",
       "      <th>0</th>\n",
       "      <td>Drama|Crime</td>\n",
       "    </tr>\n",
       "    <tr>\n",
       "      <th>1</th>\n",
       "      <td>Drama|Comedy</td>\n",
       "    </tr>\n",
       "    <tr>\n",
       "      <th>2</th>\n",
       "      <td>Crime|Comedy</td>\n",
       "    </tr>\n",
       "    <tr>\n",
       "      <th>3</th>\n",
       "      <td>Action|Thriller|Crime</td>\n",
       "    </tr>\n",
       "    <tr>\n",
       "      <th>4</th>\n",
       "      <td>2</td>\n",
       "    </tr>\n",
       "    <tr>\n",
       "      <th>...</th>\n",
       "      <td>...</td>\n",
       "    </tr>\n",
       "    <tr>\n",
       "      <th>329039</th>\n",
       "      <td>Documentary|History|TV Movie</td>\n",
       "    </tr>\n",
       "    <tr>\n",
       "      <th>329040</th>\n",
       "      <td>desconocido</td>\n",
       "    </tr>\n",
       "    <tr>\n",
       "      <th>329041</th>\n",
       "      <td>Drama|Comedy</td>\n",
       "    </tr>\n",
       "    <tr>\n",
       "      <th>329042</th>\n",
       "      <td>Drama|Comedy</td>\n",
       "    </tr>\n",
       "    <tr>\n",
       "      <th>329043</th>\n",
       "      <td>1</td>\n",
       "    </tr>\n",
       "  </tbody>\n",
       "</table>\n",
       "<p>329044 rows × 1 columns</p>\n",
       "</div>"
      ],
      "text/plain": [
       "                              genres\n",
       "0                        Drama|Crime\n",
       "1                       Drama|Comedy\n",
       "2                       Crime|Comedy\n",
       "3              Action|Thriller|Crime\n",
       "4                                  2\n",
       "...                              ...\n",
       "329039  Documentary|History|TV Movie\n",
       "329040                   desconocido\n",
       "329041                  Drama|Comedy\n",
       "329042                  Drama|Comedy\n",
       "329043                             1\n",
       "\n",
       "[329044 rows x 1 columns]"
      ]
     },
     "execution_count": 62,
     "metadata": {},
     "output_type": "execute_result"
    }
   ],
   "source": [
    "s"
   ]
  },
  {
   "cell_type": "code",
   "execution_count": 63,
   "metadata": {},
   "outputs": [],
   "source": [
    "mask = s.isin([1, 2, 3, 4])\n",
    "s = s.where(mask, other=0)"
   ]
  },
  {
   "cell_type": "code",
   "execution_count": 67,
   "metadata": {},
   "outputs": [
    {
     "data": {
      "text/html": [
       "<div>\n",
       "<style scoped>\n",
       "    .dataframe tbody tr th:only-of-type {\n",
       "        vertical-align: middle;\n",
       "    }\n",
       "\n",
       "    .dataframe tbody tr th {\n",
       "        vertical-align: top;\n",
       "    }\n",
       "\n",
       "    .dataframe thead th {\n",
       "        text-align: right;\n",
       "    }\n",
       "</style>\n",
       "<table border=\"1\" class=\"dataframe\">\n",
       "  <thead>\n",
       "    <tr style=\"text-align: right;\">\n",
       "      <th></th>\n",
       "      <th>genres</th>\n",
       "    </tr>\n",
       "  </thead>\n",
       "  <tbody>\n",
       "    <tr>\n",
       "      <th>0</th>\n",
       "      <td>0</td>\n",
       "    </tr>\n",
       "    <tr>\n",
       "      <th>1</th>\n",
       "      <td>0</td>\n",
       "    </tr>\n",
       "    <tr>\n",
       "      <th>2</th>\n",
       "      <td>0</td>\n",
       "    </tr>\n",
       "    <tr>\n",
       "      <th>3</th>\n",
       "      <td>0</td>\n",
       "    </tr>\n",
       "    <tr>\n",
       "      <th>4</th>\n",
       "      <td>1</td>\n",
       "    </tr>\n",
       "    <tr>\n",
       "      <th>...</th>\n",
       "      <td>...</td>\n",
       "    </tr>\n",
       "    <tr>\n",
       "      <th>329039</th>\n",
       "      <td>0</td>\n",
       "    </tr>\n",
       "    <tr>\n",
       "      <th>329040</th>\n",
       "      <td>0</td>\n",
       "    </tr>\n",
       "    <tr>\n",
       "      <th>329041</th>\n",
       "      <td>0</td>\n",
       "    </tr>\n",
       "    <tr>\n",
       "      <th>329042</th>\n",
       "      <td>0</td>\n",
       "    </tr>\n",
       "    <tr>\n",
       "      <th>329043</th>\n",
       "      <td>1</td>\n",
       "    </tr>\n",
       "  </tbody>\n",
       "</table>\n",
       "<p>329044 rows × 1 columns</p>\n",
       "</div>"
      ],
      "text/plain": [
       "       genres\n",
       "0           0\n",
       "1           0\n",
       "2           0\n",
       "3           0\n",
       "4           1\n",
       "...       ...\n",
       "329039      0\n",
       "329040      0\n",
       "329041      0\n",
       "329042      0\n",
       "329043      1\n",
       "\n",
       "[329044 rows x 1 columns]"
      ]
     },
     "execution_count": 67,
     "metadata": {},
     "output_type": "execute_result"
    }
   ],
   "source": [
    "s"
   ]
  },
  {
   "cell_type": "code",
   "execution_count": 66,
   "metadata": {},
   "outputs": [],
   "source": [
    "#Paso toda a binaria. \n",
    "mask2 = s.isin([0,1])\n",
    "s = s.where(mask2,other=1)"
   ]
  },
  {
   "cell_type": "code",
   "execution_count": 71,
   "metadata": {},
   "outputs": [],
   "source": [
    "movies['genres_2'] = s"
   ]
  },
  {
   "cell_type": "code",
   "execution_count": 70,
   "metadata": {},
   "outputs": [
    {
     "data": {
      "text/html": [
       "<div>\n",
       "<style scoped>\n",
       "    .dataframe tbody tr th:only-of-type {\n",
       "        vertical-align: middle;\n",
       "    }\n",
       "\n",
       "    .dataframe tbody tr th {\n",
       "        vertical-align: top;\n",
       "    }\n",
       "\n",
       "    .dataframe thead th {\n",
       "        text-align: right;\n",
       "    }\n",
       "</style>\n",
       "<table border=\"1\" class=\"dataframe\">\n",
       "  <thead>\n",
       "    <tr style=\"text-align: right;\">\n",
       "      <th></th>\n",
       "      <th>ï..id</th>\n",
       "      <th>budget</th>\n",
       "      <th>genres</th>\n",
       "      <th>imdb_id</th>\n",
       "      <th>original_language</th>\n",
       "      <th>original_title</th>\n",
       "      <th>overview</th>\n",
       "      <th>popularity</th>\n",
       "      <th>production_companies</th>\n",
       "      <th>production_countries</th>\n",
       "      <th>...</th>\n",
       "      <th>mes_3.0</th>\n",
       "      <th>mes_4.0</th>\n",
       "      <th>mes_5.0</th>\n",
       "      <th>mes_6.0</th>\n",
       "      <th>mes_7.0</th>\n",
       "      <th>mes_8.0</th>\n",
       "      <th>mes_9.0</th>\n",
       "      <th>mes_10.0</th>\n",
       "      <th>mes_11.0</th>\n",
       "      <th>mes_12.0</th>\n",
       "    </tr>\n",
       "  </thead>\n",
       "  <tbody>\n",
       "    <tr>\n",
       "      <th>0</th>\n",
       "      <td>2</td>\n",
       "      <td>0</td>\n",
       "      <td>Drama|Crime</td>\n",
       "      <td>tt0094675</td>\n",
       "      <td>0</td>\n",
       "      <td>Ariel</td>\n",
       "      <td>Taisto Kasurinen is a Finnish coal miner whose...</td>\n",
       "      <td>0.823904</td>\n",
       "      <td>Villealfa Filmproduction Oy</td>\n",
       "      <td>Finland</td>\n",
       "      <td>...</td>\n",
       "      <td>0</td>\n",
       "      <td>0</td>\n",
       "      <td>0</td>\n",
       "      <td>0</td>\n",
       "      <td>0</td>\n",
       "      <td>0</td>\n",
       "      <td>0</td>\n",
       "      <td>1</td>\n",
       "      <td>0</td>\n",
       "      <td>0</td>\n",
       "    </tr>\n",
       "    <tr>\n",
       "      <th>1</th>\n",
       "      <td>3</td>\n",
       "      <td>0</td>\n",
       "      <td>Drama|Comedy</td>\n",
       "      <td>tt0092149</td>\n",
       "      <td>0</td>\n",
       "      <td>Varjoja paratiisissa</td>\n",
       "      <td>An episode in the life of Nikander, a garbage ...</td>\n",
       "      <td>0.47445</td>\n",
       "      <td>Villealfa Filmproduction Oy</td>\n",
       "      <td>Finland</td>\n",
       "      <td>...</td>\n",
       "      <td>0</td>\n",
       "      <td>0</td>\n",
       "      <td>0</td>\n",
       "      <td>0</td>\n",
       "      <td>0</td>\n",
       "      <td>0</td>\n",
       "      <td>0</td>\n",
       "      <td>1</td>\n",
       "      <td>0</td>\n",
       "      <td>0</td>\n",
       "    </tr>\n",
       "    <tr>\n",
       "      <th>2</th>\n",
       "      <td>5</td>\n",
       "      <td>4000000</td>\n",
       "      <td>Crime|Comedy</td>\n",
       "      <td>tt0113101</td>\n",
       "      <td>1</td>\n",
       "      <td>Four Rooms</td>\n",
       "      <td>It's Ted the Bellhop's first night on the job....</td>\n",
       "      <td>1.698</td>\n",
       "      <td>Miramax Films</td>\n",
       "      <td>United States of America</td>\n",
       "      <td>...</td>\n",
       "      <td>0</td>\n",
       "      <td>0</td>\n",
       "      <td>0</td>\n",
       "      <td>0</td>\n",
       "      <td>0</td>\n",
       "      <td>0</td>\n",
       "      <td>0</td>\n",
       "      <td>0</td>\n",
       "      <td>0</td>\n",
       "      <td>1</td>\n",
       "    </tr>\n",
       "    <tr>\n",
       "      <th>3</th>\n",
       "      <td>6</td>\n",
       "      <td>0</td>\n",
       "      <td>Action|Thriller|Crime</td>\n",
       "      <td>tt0107286</td>\n",
       "      <td>1</td>\n",
       "      <td>Judgment Night</td>\n",
       "      <td>While racing to a boxing match, Frank, Mike, J...</td>\n",
       "      <td>1.32287</td>\n",
       "      <td>Universal Pictures</td>\n",
       "      <td>Japan</td>\n",
       "      <td>...</td>\n",
       "      <td>0</td>\n",
       "      <td>0</td>\n",
       "      <td>0</td>\n",
       "      <td>0</td>\n",
       "      <td>0</td>\n",
       "      <td>0</td>\n",
       "      <td>0</td>\n",
       "      <td>1</td>\n",
       "      <td>0</td>\n",
       "      <td>0</td>\n",
       "    </tr>\n",
       "    <tr>\n",
       "      <th>4</th>\n",
       "      <td>8</td>\n",
       "      <td>42000</td>\n",
       "      <td>2</td>\n",
       "      <td>tt0825671</td>\n",
       "      <td>1</td>\n",
       "      <td>Life in Loops (A Megacities RMX)</td>\n",
       "      <td>Timo Novotny labels his new project an experim...</td>\n",
       "      <td>0.054716</td>\n",
       "      <td>inLoops</td>\n",
       "      <td>Austria</td>\n",
       "      <td>...</td>\n",
       "      <td>0</td>\n",
       "      <td>0</td>\n",
       "      <td>0</td>\n",
       "      <td>0</td>\n",
       "      <td>0</td>\n",
       "      <td>0</td>\n",
       "      <td>0</td>\n",
       "      <td>0</td>\n",
       "      <td>0</td>\n",
       "      <td>0</td>\n",
       "    </tr>\n",
       "  </tbody>\n",
       "</table>\n",
       "<p>5 rows × 37 columns</p>\n",
       "</div>"
      ],
      "text/plain": [
       "   ï..id   budget                 genres    imdb_id  original_language  \\\n",
       "0      2        0            Drama|Crime  tt0094675                  0   \n",
       "1      3        0           Drama|Comedy  tt0092149                  0   \n",
       "2      5  4000000           Crime|Comedy  tt0113101                  1   \n",
       "3      6        0  Action|Thriller|Crime  tt0107286                  1   \n",
       "4      8    42000                      2  tt0825671                  1   \n",
       "\n",
       "                     original_title  \\\n",
       "0                             Ariel   \n",
       "1              Varjoja paratiisissa   \n",
       "2                        Four Rooms   \n",
       "3                    Judgment Night   \n",
       "4  Life in Loops (A Megacities RMX)   \n",
       "\n",
       "                                            overview popularity  \\\n",
       "0  Taisto Kasurinen is a Finnish coal miner whose...   0.823904   \n",
       "1  An episode in the life of Nikander, a garbage ...    0.47445   \n",
       "2  It's Ted the Bellhop's first night on the job....      1.698   \n",
       "3  While racing to a boxing match, Frank, Mike, J...    1.32287   \n",
       "4  Timo Novotny labels his new project an experim...   0.054716   \n",
       "\n",
       "          production_companies      production_countries  ... mes_3.0  \\\n",
       "0  Villealfa Filmproduction Oy                   Finland  ...       0   \n",
       "1  Villealfa Filmproduction Oy                   Finland  ...       0   \n",
       "2                Miramax Films  United States of America  ...       0   \n",
       "3           Universal Pictures                     Japan  ...       0   \n",
       "4                      inLoops                   Austria  ...       0   \n",
       "\n",
       "   mes_4.0  mes_5.0  mes_6.0  mes_7.0 mes_8.0 mes_9.0  mes_10.0  mes_11.0  \\\n",
       "0        0        0        0        0       0       0         1         0   \n",
       "1        0        0        0        0       0       0         1         0   \n",
       "2        0        0        0        0       0       0         0         0   \n",
       "3        0        0        0        0       0       0         1         0   \n",
       "4        0        0        0        0       0       0         0         0   \n",
       "\n",
       "   mes_12.0  \n",
       "0         0  \n",
       "1         0  \n",
       "2         1  \n",
       "3         0  \n",
       "4         0  \n",
       "\n",
       "[5 rows x 37 columns]"
      ]
     },
     "execution_count": 70,
     "metadata": {},
     "output_type": "execute_result"
    }
   ],
   "source": [
    "movies.head()"
   ]
  },
  {
   "cell_type": "code",
   "execution_count": 75,
   "metadata": {},
   "outputs": [
    {
     "data": {
      "text/plain": [
       "0    242724\n",
       "1     86320\n",
       "Name: genres_2, dtype: int64"
      ]
     },
     "execution_count": 75,
     "metadata": {},
     "output_type": "execute_result"
    }
   ],
   "source": [
    "movies['genres_2'].value_counts()"
   ]
  },
  {
   "cell_type": "code",
   "execution_count": 76,
   "metadata": {},
   "outputs": [],
   "source": [
    "#Esto funciona\n",
    "movies['genres_2'] = movies['genres_2'].fillna(0).astype(np.int64, errors='ignore')"
   ]
  },
  {
   "cell_type": "markdown",
   "metadata": {},
   "source": [
    "#### Revenue"
   ]
  },
  {
   "cell_type": "code",
   "execution_count": 77,
   "metadata": {},
   "outputs": [
    {
     "data": {
      "text/plain": [
       "0.000            320354\n",
       "1.000                58\n",
       "500000.000           44\n",
       "2000000.000          35\n",
       "10000000.000         29\n",
       "                  ...  \n",
       "404.000               1\n",
       "211817906.000         1\n",
       "206871.000            1\n",
       "847423452.000         1\n",
       "268426634.000         1\n",
       "Name: revenue, Length: 7458, dtype: int64"
      ]
     },
     "execution_count": 77,
     "metadata": {},
     "output_type": "execute_result"
    }
   ],
   "source": [
    "movies['revenue'].value_counts()"
   ]
  },
  {
   "cell_type": "markdown",
   "metadata": {},
   "source": [
    "La inmensa mayoria no presenta revenue"
   ]
  },
  {
   "cell_type": "code",
   "execution_count": 78,
   "metadata": {},
   "outputs": [],
   "source": [
    "import seaborn as sns\n",
    "sns.set_theme(style=\"whitegrid\")"
   ]
  },
  {
   "cell_type": "code",
   "execution_count": 79,
   "metadata": {},
   "outputs": [
    {
     "data": {
      "image/png": "[encoded data removed]",
      "text/plain": [
       "<Figure size 432x288 with 1 Axes>"
      ]
     },
     "metadata": {},
     "output_type": "display_data"
    }
   ],
   "source": [
    "ax = sns.boxplot(x=movies[\"revenue\"])"
   ]
  },
  {
   "cell_type": "code",
   "execution_count": 80,
   "metadata": {},
   "outputs": [
    {
     "data": {
      "image/png": "[encoded data removed]",
      "text/plain": [
       "<Figure size 432x288 with 1 Axes>"
      ]
     },
     "metadata": {},
     "output_type": "display_data"
    }
   ],
   "source": [
    "ax = sns.boxplot(x=\"genres_2\", y=\"revenue\", data=movies)"
   ]
  },
  {
   "cell_type": "markdown",
   "metadata": {},
   "source": [
    "### Popularity"
   ]
  },
  {
   "cell_type": "code",
   "execution_count": 81,
   "metadata": {},
   "outputs": [
    {
     "data": {
      "text/plain": [
       "11926"
      ]
     },
     "execution_count": 81,
     "metadata": {},
     "output_type": "execute_result"
    }
   ],
   "source": [
    "movies['popularity_2'].isna().sum()"
   ]
  },
  {
   "cell_type": "markdown",
   "metadata": {},
   "source": [
    "Reviso los nulos de 'popularity'"
   ]
  },
  {
   "cell_type": "code",
   "execution_count": 82,
   "metadata": {},
   "outputs": [],
   "source": [
    "#La columna en cuestion. \n",
    "Movies_popu = movies.popularity.str.contains('E-').replace(np.NaN, 0).astype(int).head()"
   ]
  },
  {
   "cell_type": "code",
   "execution_count": 83,
   "metadata": {},
   "outputs": [],
   "source": [
    "movies['popularityCheck'] = movies.popularity.str.contains('E-').replace(np.NaN, 0).astype(int)"
   ]
  },
  {
   "cell_type": "code",
   "execution_count": 84,
   "metadata": {},
   "outputs": [
    {
     "data": {
      "text/plain": [
       "0    317118\n",
       "1     11926\n",
       "Name: popularityCheck, dtype: int64"
      ]
     },
     "execution_count": 84,
     "metadata": {},
     "output_type": "execute_result"
    }
   ],
   "source": [
    "movies['popularityCheck'].value_counts()#HAY 11926 casos con el E-"
   ]
  },
  {
   "cell_type": "code",
   "execution_count": 85,
   "metadata": {},
   "outputs": [
    {
     "data": {
      "text/plain": [
       "0        0\n",
       "1        0\n",
       "2        0\n",
       "3        0\n",
       "4        0\n",
       "        ..\n",
       "31995    0\n",
       "31996    0\n",
       "31997    0\n",
       "31998    0\n",
       "31999    0\n",
       "Name: popularityCheck, Length: 32000, dtype: int32"
      ]
     },
     "execution_count": 85,
     "metadata": {},
     "output_type": "execute_result"
    }
   ],
   "source": [
    "movies['popularityCheck'].head(32000)"
   ]
  },
  {
   "cell_type": "code",
   "execution_count": 86,
   "metadata": {},
   "outputs": [],
   "source": [
    "movies['popularityCheck'] = movies['popularityCheck'] + 1"
   ]
  },
  {
   "cell_type": "code",
   "execution_count": 87,
   "metadata": {},
   "outputs": [],
   "source": [
    "movies['popularityCheck'] = movies['popularityCheck'].replace(2,0)"
   ]
  },
  {
   "cell_type": "code",
   "execution_count": 88,
   "metadata": {},
   "outputs": [],
   "source": [
    "movies['popularity'] = movies['popularity'] * movies['popularityCheck']"
   ]
  },
  {
   "cell_type": "code",
   "execution_count": 89,
   "metadata": {},
   "outputs": [],
   "source": [
    "movies['popularity'] = movies['popularity'].replace('',0)"
   ]
  },
  {
   "cell_type": "code",
   "execution_count": 90,
   "metadata": {},
   "outputs": [],
   "source": [
    "#movies['popularity'] = pd.to_numeric(movies['popularity'].round(), errors='coerce').astype('Int64')"
   ]
  },
  {
   "cell_type": "code",
   "execution_count": 91,
   "metadata": {},
   "outputs": [],
   "source": [
    "movies['popularity'] = movies['popularity'].fillna(99999999).astype(np.int64, errors='ignore')\n",
    "#movies['popularity'] = movies['popularity'].replace(99999999, np.nan)"
   ]
  },
  {
   "cell_type": "code",
   "execution_count": 92,
   "metadata": {},
   "outputs": [
    {
     "data": {
      "text/plain": [
       "329044"
      ]
     },
     "execution_count": 92,
     "metadata": {},
     "output_type": "execute_result"
    }
   ],
   "source": [
    "movies.popularityCheck.count()"
   ]
  },
  {
   "cell_type": "code",
   "execution_count": 93,
   "metadata": {},
   "outputs": [
    {
     "data": {
      "text/plain": [
       "329044"
      ]
     },
     "execution_count": 93,
     "metadata": {},
     "output_type": "execute_result"
    }
   ],
   "source": [
    "movies.popularity.count()"
   ]
  },
  {
   "cell_type": "code",
   "execution_count": 94,
   "metadata": {},
   "outputs": [
    {
     "data": {
      "text/plain": [
       "0"
      ]
     },
     "execution_count": 94,
     "metadata": {},
     "output_type": "execute_result"
    }
   ],
   "source": [
    "movies['popularity'].isnull().sum()"
   ]
  },
  {
   "cell_type": "code",
   "execution_count": 95,
   "metadata": {},
   "outputs": [
    {
     "data": {
      "text/plain": [
       "0"
      ]
     },
     "execution_count": 95,
     "metadata": {},
     "output_type": "execute_result"
    }
   ],
   "source": [
    "movies['popularity'].isna().sum()"
   ]
  },
  {
   "cell_type": "code",
   "execution_count": 96,
   "metadata": {},
   "outputs": [],
   "source": [
    "#movies['popularity'] = movies['popularity'].fillna(0).astype(np.int64)"
   ]
  },
  {
   "cell_type": "code",
   "execution_count": 97,
   "metadata": {},
   "outputs": [],
   "source": [
    "#movies['popularity'] = movies['popularity'].astype(float).astype('Int64')"
   ]
  },
  {
   "cell_type": "code",
   "execution_count": 98,
   "metadata": {},
   "outputs": [],
   "source": [
    "movies['popularityCheck'] = movies['popularityCheck']*movies['popularity']"
   ]
  },
  {
   "cell_type": "code",
   "execution_count": 99,
   "metadata": {},
   "outputs": [],
   "source": [
    "movies['popularity'] = movies.popularity.str.replace(',','E-')\n",
    "movies['popularity'] = movies.popularity.str.replace('E-','0')"
   ]
  },
  {
   "cell_type": "code",
   "execution_count": 100,
   "metadata": {},
   "outputs": [
    {
     "data": {
      "text/plain": [
       "315754"
      ]
     },
     "execution_count": 100,
     "metadata": {},
     "output_type": "execute_result"
    }
   ],
   "source": [
    "movies.popularity.count()"
   ]
  },
  {
   "cell_type": "markdown",
   "metadata": {},
   "source": [
    "Los nulos que son lo 0"
   ]
  },
  {
   "cell_type": "markdown",
   "metadata": {},
   "source": [
    "### Exploracion"
   ]
  },
  {
   "cell_type": "code",
   "execution_count": 101,
   "metadata": {},
   "outputs": [
    {
     "data": {
      "text/plain": [
       "ï..id                                   int64\n",
       "budget                                  int64\n",
       "genres                                 object\n",
       "imdb_id                                object\n",
       "original_language                       int32\n",
       "original_title                         object\n",
       "overview                               object\n",
       "popularity                             object\n",
       "production_companies                   object\n",
       "production_countries                   object\n",
       "release_date                   datetime64[ns]\n",
       "revenue                               float64\n",
       "runtime                               float64\n",
       "spoken_languages                        int32\n",
       "status                                  int32\n",
       "tagline                                object\n",
       "title                                  object\n",
       "vote_average                          float64\n",
       "vote_count                              int64\n",
       "production_companies_number             int64\n",
       "production_countries_number             int64\n",
       "spoken_languages_number                 int64\n",
       "popularity_2                          float64\n",
       "scientific                               bool\n",
       "release_anio                            int32\n",
       "mes_1.0                                 uint8\n",
       "mes_2.0                                 uint8\n",
       "mes_3.0                                 uint8\n",
       "mes_4.0                                 uint8\n",
       "mes_5.0                                 uint8\n",
       "mes_6.0                                 uint8\n",
       "mes_7.0                                 uint8\n",
       "mes_8.0                                 uint8\n",
       "mes_9.0                                 uint8\n",
       "mes_10.0                                uint8\n",
       "mes_11.0                                uint8\n",
       "mes_12.0                                uint8\n",
       "genres_2                                int64\n",
       "popularityCheck                        object\n",
       "dtype: object"
      ]
     },
     "execution_count": 101,
     "metadata": {},
     "output_type": "execute_result"
    }
   ],
   "source": [
    "movies.dtypes"
   ]
  },
  {
   "cell_type": "markdown",
   "metadata": {},
   "source": [
    "You will get a ValueError if you pass a string representation of a float into int, or a string representation of anything but an integer (including empty string). If you do want to pass a string representation of a float to an int, you can convert to a float first, then to an integer."
   ]
  },
  {
   "cell_type": "markdown",
   "metadata": {},
   "source": [
    "Figuran errores muy extraños como '7,00E-06' por lo que va a ser necesaria alguna funcion para poder procesarlos. "
   ]
  },
  {
   "cell_type": "markdown",
   "metadata": {},
   "source": [
    "Hay 225 valores con el valor 7,00E-06 en popularity. Los llevare a valor 0."
   ]
  },
  {
   "cell_type": "markdown",
   "metadata": {},
   "source": [
    "The following are totally acceptable in python:\n",
    "\n",
    "passing a string representation of an integer into int\n",
    "passing a string representation of a float into float\n",
    "passing a string representation of an integer into float\n",
    "passing a float into int\n",
    "passing an integer into float\n",
    "But you get a ValueError if you pass a string representation of a float into int,"
   ]
  },
  {
   "cell_type": "raw",
   "metadata": {},
   "source": [
    "Pandas  dtype\t        Python type\tUsage\n",
    "\n",
    "object\tstr or mixed\t Text or mixed numeric and non-numeric values\n",
    "int64\tint\t             Integer numbers\n",
    "float64\tfloat\t         Floating point numbers\n",
    "bool\tbool\t         True/False values"
   ]
  },
  {
   "cell_type": "code",
   "execution_count": 102,
   "metadata": {},
   "outputs": [],
   "source": [
    "import pandas as pd"
   ]
  },
  {
   "cell_type": "code",
   "execution_count": 103,
   "metadata": {},
   "outputs": [],
   "source": [
    "movies['popularity_2'] = movies['popularity_2'].replace('NA',0)\n"
   ]
  },
  {
   "cell_type": "code",
   "execution_count": 104,
   "metadata": {},
   "outputs": [],
   "source": [
    "movies['popularity_2'] = movies['popularity_2'].replace(np.nan, 0)"
   ]
  },
  {
   "cell_type": "code",
   "execution_count": 105,
   "metadata": {},
   "outputs": [],
   "source": [
    "#Esto funciona\n",
    "movies['popularity_2'] = movies['popularity_2'].fillna(0).astype(np.int64, errors='ignore')"
   ]
  },
  {
   "cell_type": "code",
   "execution_count": 106,
   "metadata": {},
   "outputs": [],
   "source": [
    "movies['popularity_2'] = movies['popularity_2'].astype(int)"
   ]
  },
  {
   "cell_type": "code",
   "execution_count": 107,
   "metadata": {},
   "outputs": [
    {
     "data": {
      "text/plain": [
       "0"
      ]
     },
     "execution_count": 107,
     "metadata": {},
     "output_type": "execute_result"
    }
   ],
   "source": [
    "movies['popularity_2'].isna().sum()"
   ]
  },
  {
   "cell_type": "markdown",
   "metadata": {},
   "source": [
    "Pequeño vistazo a Original_title y overview"
   ]
  },
  {
   "cell_type": "code",
   "execution_count": 108,
   "metadata": {},
   "outputs": [
    {
     "data": {
      "text/plain": [
       "{'original_title': 'Ariel',\n",
       " 'overview': \"Taisto Kasurinen is a Finnish coal miner whose father has just committed suicide and who is framed for a crime he did not commit. In jail, he starts to dream about leaving the country and starting a new life. He escapes from prison but things don't go as planned...\"}"
      ]
     },
     "execution_count": 108,
     "metadata": {},
     "output_type": "execute_result"
    }
   ],
   "source": [
    "movies[movies.imdb_id == 'tt0094675'][['original_title', 'overview']].iloc[0].to_dict()"
   ]
  },
  {
   "cell_type": "markdown",
   "metadata": {},
   "source": [
    "# runtime y revenue"
   ]
  },
  {
   "cell_type": "markdown",
   "metadata": {},
   "source": [
    "Apply per-column the mean of that columns and fill:"
   ]
  },
  {
   "cell_type": "code",
   "execution_count": 109,
   "metadata": {},
   "outputs": [],
   "source": [
    "movies['runtime'] = movies['runtime'].fillna((movies['runtime'].mean()))"
   ]
  },
  {
   "cell_type": "code",
   "execution_count": 110,
   "metadata": {},
   "outputs": [],
   "source": [
    "movies['runtime'] = movies['runtime'].astype(int)"
   ]
  },
  {
   "cell_type": "markdown",
   "metadata": {},
   "source": [
    "No cuento con suficiente memoria RAM como para imputar los outliers"
   ]
  },
  {
   "cell_type": "code",
   "execution_count": 111,
   "metadata": {},
   "outputs": [],
   "source": [
    "movies['revenue'] = movies['revenue'].fillna((movies['revenue'].mean()))\n",
    "movies['revenue'] = movies['revenue'].astype(int)"
   ]
  },
  {
   "cell_type": "code",
   "execution_count": 112,
   "metadata": {},
   "outputs": [],
   "source": [
    "movies['vote_count'] = movies['vote_count'].astype(int)"
   ]
  },
  {
   "cell_type": "code",
   "execution_count": 113,
   "metadata": {},
   "outputs": [],
   "source": [
    "movies['vote_average'] = movies['vote_average'].astype(int)"
   ]
  },
  {
   "cell_type": "markdown",
   "metadata": {},
   "source": [
    "# production_countries"
   ]
  },
  {
   "cell_type": "code",
   "execution_count": 126,
   "metadata": {},
   "outputs": [
    {
     "data": {
      "text/plain": [
       "none                        151960\n",
       "United States of America     55504\n",
       "Germany                      15783\n",
       "United Kingdom               12254\n",
       "France                       11401\n",
       "                             ...  \n",
       "US Virgin Islands                1\n",
       "Anguilla                         1\n",
       "Nauru                            1\n",
       "Palau                            1\n",
       "Seychelles                       1\n",
       "Name: production_countries, Length: 235, dtype: int64"
      ]
     },
     "execution_count": 126,
     "metadata": {},
     "output_type": "execute_result"
    }
   ],
   "source": [
    "movies['production_countries'].value_counts()"
   ]
  },
  {
   "cell_type": "code",
   "execution_count": 127,
   "metadata": {},
   "outputs": [],
   "source": [
    "def village(series):\n",
    "    if series == 'United States of America':\n",
    "        return 1\n",
    "    elif series == 'Germany':\n",
    "        return 1\n",
    "    elif series == 'United Kingdom':\n",
    "        return 1\n",
    "    elif series == 'France':\n",
    "        return 1\n",
    "    else:\n",
    "        return 0"
   ]
  },
  {
   "cell_type": "code",
   "execution_count": 128,
   "metadata": {},
   "outputs": [
    {
     "data": {
      "text/plain": [
       "0    234102\n",
       "1     94942\n",
       "Name: production_countries, dtype: int64"
      ]
     },
     "execution_count": 128,
     "metadata": {},
     "output_type": "execute_result"
    }
   ],
   "source": [
    "movies['production_countries'] = movies['production_countries'].apply(village)\n",
    "        \n",
    "movies['production_countries'].value_counts()"
   ]
  },
  {
   "cell_type": "markdown",
   "metadata": {},
   "source": [
    "## Revision Final"
   ]
  },
  {
   "cell_type": "code",
   "execution_count": 129,
   "metadata": {},
   "outputs": [],
   "source": [
    "int_movies = movies.select_dtypes(include=['int32',]).copy()"
   ]
  },
  {
   "cell_type": "markdown",
   "metadata": {},
   "source": [
    "1,2,4,11:14,17:22,24:37"
   ]
  },
  {
   "cell_type": "code",
   "execution_count": 130,
   "metadata": {},
   "outputs": [
    {
     "data": {
      "text/plain": [
       "ï..id                                   int64\n",
       "budget                                  int64\n",
       "genres                                 object\n",
       "imdb_id                                object\n",
       "original_language                       int32\n",
       "original_title                         object\n",
       "overview                               object\n",
       "popularity                             object\n",
       "production_companies                   object\n",
       "production_countries                    int64\n",
       "release_date                   datetime64[ns]\n",
       "revenue                                 int32\n",
       "runtime                                 int32\n",
       "spoken_languages                        int32\n",
       "status                                  int32\n",
       "tagline                                object\n",
       "title                                  object\n",
       "vote_average                            int32\n",
       "vote_count                              int32\n",
       "production_companies_number             int64\n",
       "production_countries_number             int64\n",
       "spoken_languages_number                 int64\n",
       "popularity_2                            int32\n",
       "scientific                               bool\n",
       "release_anio                            int32\n",
       "mes_1.0                                 uint8\n",
       "mes_2.0                                 uint8\n",
       "mes_3.0                                 uint8\n",
       "mes_4.0                                 uint8\n",
       "mes_5.0                                 uint8\n",
       "mes_6.0                                 uint8\n",
       "mes_7.0                                 uint8\n",
       "mes_8.0                                 uint8\n",
       "mes_9.0                                 uint8\n",
       "mes_10.0                                uint8\n",
       "mes_11.0                                uint8\n",
       "mes_12.0                                uint8\n",
       "genres_2                                int64\n",
       "popularityCheck                        object\n",
       "dtype: object"
      ]
     },
     "execution_count": 130,
     "metadata": {},
     "output_type": "execute_result"
    }
   ],
   "source": [
    "movies.dtypes"
   ]
  },
  {
   "cell_type": "code",
   "execution_count": 131,
   "metadata": {},
   "outputs": [
    {
     "data": {
      "text/plain": [
       "ï..id                               0\n",
       "budget                              0\n",
       "genres                              0\n",
       "imdb_id                             0\n",
       "original_language                   0\n",
       "original_title                      0\n",
       "overview                            0\n",
       "popularity                      13290\n",
       "production_companies                0\n",
       "production_countries                0\n",
       "release_date                    24046\n",
       "revenue                             0\n",
       "runtime                             0\n",
       "spoken_languages                    0\n",
       "status                              0\n",
       "tagline                        276113\n",
       "title                               1\n",
       "vote_average                        0\n",
       "vote_count                          0\n",
       "production_companies_number         0\n",
       "production_countries_number         0\n",
       "spoken_languages_number             0\n",
       "popularity_2                        0\n",
       "scientific                          0\n",
       "release_anio                        0\n",
       "mes_1.0                             0\n",
       "mes_2.0                             0\n",
       "mes_3.0                             0\n",
       "mes_4.0                             0\n",
       "mes_5.0                             0\n",
       "mes_6.0                             0\n",
       "mes_7.0                             0\n",
       "mes_8.0                             0\n",
       "mes_9.0                             0\n",
       "mes_10.0                            0\n",
       "mes_11.0                            0\n",
       "mes_12.0                            0\n",
       "genres_2                            0\n",
       "popularityCheck                     0\n",
       "dtype: int64"
      ]
     },
     "execution_count": 131,
     "metadata": {},
     "output_type": "execute_result"
    }
   ],
   "source": [
    "movies.isnull().sum()"
   ]
  },
  {
   "cell_type": "markdown",
   "metadata": {},
   "source": [
    "## Algunos graficos"
   ]
  },
  {
   "cell_type": "code",
   "execution_count": 117,
   "metadata": {},
   "outputs": [
    {
     "name": "stderr",
     "output_type": "stream",
     "text": [
      "C:\\Users\\raul\\anaconda3\\lib\\site-packages\\pandas\\plotting\\_matplotlib\\misc.py:49: RuntimeWarning: overflow encountered in long_scalars\n",
      "  rdelta_ext = (rmax_ - rmin_) * range_padding / 2.0\n"
     ]
    },
    {
     "data": {
      "text/plain": [
       "array([[<AxesSubplot:xlabel='budget', ylabel='budget'>,\n",
       "        <AxesSubplot:xlabel='popularity_2', ylabel='budget'>,\n",
       "        <AxesSubplot:xlabel='revenue', ylabel='budget'>,\n",
       "        <AxesSubplot:xlabel='genres_2', ylabel='budget'>,\n",
       "        <AxesSubplot:xlabel='runtime', ylabel='budget'>],\n",
       "       [<AxesSubplot:xlabel='budget', ylabel='popularity_2'>,\n",
       "        <AxesSubplot:xlabel='popularity_2', ylabel='popularity_2'>,\n",
       "        <AxesSubplot:xlabel='revenue', ylabel='popularity_2'>,\n",
       "        <AxesSubplot:xlabel='genres_2', ylabel='popularity_2'>,\n",
       "        <AxesSubplot:xlabel='runtime', ylabel='popularity_2'>],\n",
       "       [<AxesSubplot:xlabel='budget', ylabel='revenue'>,\n",
       "        <AxesSubplot:xlabel='popularity_2', ylabel='revenue'>,\n",
       "        <AxesSubplot:xlabel='revenue', ylabel='revenue'>,\n",
       "        <AxesSubplot:xlabel='genres_2', ylabel='revenue'>,\n",
       "        <AxesSubplot:xlabel='runtime', ylabel='revenue'>],\n",
       "       [<AxesSubplot:xlabel='budget', ylabel='genres_2'>,\n",
       "        <AxesSubplot:xlabel='popularity_2', ylabel='genres_2'>,\n",
       "        <AxesSubplot:xlabel='revenue', ylabel='genres_2'>,\n",
       "        <AxesSubplot:xlabel='genres_2', ylabel='genres_2'>,\n",
       "        <AxesSubplot:xlabel='runtime', ylabel='genres_2'>],\n",
       "       [<AxesSubplot:xlabel='budget', ylabel='runtime'>,\n",
       "        <AxesSubplot:xlabel='popularity_2', ylabel='runtime'>,\n",
       "        <AxesSubplot:xlabel='revenue', ylabel='runtime'>,\n",
       "        <AxesSubplot:xlabel='genres_2', ylabel='runtime'>,\n",
       "        <AxesSubplot:xlabel='runtime', ylabel='runtime'>]], dtype=object)"
      ]
     },
     "execution_count": 117,
     "metadata": {},
     "output_type": "execute_result"
    },
    {
     "data": {
      "image/png": "[encoded data removed]",
      "text/plain": [
       "<Figure size 1080x720 with 25 Axes>"
      ]
     },
     "metadata": {},
     "output_type": "display_data"
    }
   ],
   "source": [
    "from pandas.plotting import scatter_matrix\n",
    "\n",
    "attributes = ['budget', 'popularity_2', 'revenue',\n",
    "              'genres_2' , 'runtime']\n",
    "scatter_matrix(movies[attributes], figsize=(15, 10), color='#840E6B', hist_kwds={'color':['#A029FA']})"
   ]
  },
  {
   "cell_type": "code",
   "execution_count": 118,
   "metadata": {},
   "outputs": [],
   "source": [
    "#SIN RAM\n",
    "# attributes = ['revenue', 'status',\n",
    "#             'vote_average']#'vote_count'\n",
    "#scatter_matrix(movies[attributes], figsize=(15, 10), color='#840E6B', hist_kwds={'color':['#A029FA']})"
   ]
  },
  {
   "cell_type": "code",
   "execution_count": 119,
   "metadata": {},
   "outputs": [],
   "source": [
    "#Sin memoria Ram para ejecutarlo\n",
    "\n",
    "# import seaborn as sb\n",
    "# import matplotlib.pyplot as plt\n",
    "# from matplotlib import style\n",
    "\n",
    "# style.use('seaborn-whitegrid')\n",
    "# plt.rcParams['figure.figsize'] = (20,10)"
   ]
  },
  {
   "cell_type": "code",
   "execution_count": 120,
   "metadata": {},
   "outputs": [],
   "source": [
    "#Sin memoria Ram para ejecutarlo\n",
    "\n",
    "#sb.pairplot(movies)\n",
    "#plt.savefig('pairplor.png')"
   ]
  },
  {
   "cell_type": "code",
   "execution_count": 121,
   "metadata": {},
   "outputs": [],
   "source": [
    "#Sin memoria Ram para ejecutarlo\n",
    "\n",
    "#plt.scatter(x = 'revenue', y = 'budget', data = movies, s = 100, alpha = 0.3, edgecolor = 'white')\n",
    "#plt.title('Engine size vs C02 Emissions', fontsize = 16)\n",
    "#plt.ylabel('budget', fontsize = 12)\n",
    "#plt.xlabel('revenue', fontsize = 12)\n",
    "\n",
    "#plt.savefig('enginesize_co2.png')"
   ]
  },
  {
   "cell_type": "markdown",
   "metadata": {},
   "source": [
    "## Modelado"
   ]
  },
  {
   "cell_type": "markdown",
   "metadata": {},
   "source": [
    "Variable de estudio (dependiente): revenue. Las ganancias de una pelicula. "
   ]
  },
  {
   "cell_type": "markdown",
   "metadata": {},
   "source": [
    "Dejemos el dataset unicamente con las variables que tienen 'relevancia' de estudio."
   ]
  },
  {
   "cell_type": "code",
   "execution_count": 134,
   "metadata": {},
   "outputs": [],
   "source": [
    "movies_almodelado = movies[['budget','original_language','revenue','runtime','spoken_languages','status','vote_average','vote_count','popularity_2','production_countries','release_anio','mes_1.0','mes_2.0','mes_3.0','mes_4.0','mes_5.0','mes_6.0','mes_7.0','mes_8.0','mes_9.0','mes_10.0','mes_11.0','mes_12.0','genres_2']]"
   ]
  },
  {
   "cell_type": "code",
   "execution_count": 136,
   "metadata": {},
   "outputs": [],
   "source": [
    "movies_almodelado.to_csv(r'C:\\Users\\raul\\Documents\\Data Science Proyectos\\Datos\\datoslimpios.csv', index = False)"
   ]
  },
  {
   "cell_type": "markdown",
   "metadata": {},
   "source": [
    "Con este data set 'limpo' reailzo el modelado en googlecolab. "
   ]
  }
 ],
 "metadata": {
  "kernelspec": {
   "display_name": "Python 3",
   "language": "python",
   "name": "python3"
  },
  "language_info": {
   "codemirror_mode": {
    "name": "ipython",
    "version": 3
   },
   "file_extension": ".py",
   "mimetype": "text/x-python",
   "name": "python",
   "nbconvert_exporter": "python",
   "pygments_lexer": "ipython3",
   "version": "3.8.5"
  }
 },
 "nbformat": 4,
 "nbformat_minor": 4
}
