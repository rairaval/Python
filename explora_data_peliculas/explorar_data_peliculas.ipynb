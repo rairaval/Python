{
  "nbformat": 4,
  "nbformat_minor": 0,
  "metadata": {
    "colab": {
      "name": "02_explore_the_data.ipynb",
      "provenance": []
    },
    "kernelspec": {
      "name": "python3",
      "display_name": "Python 3"
    }
  },
  "cells": [
    {
      "cell_type": "markdown",
      "metadata": {
        "id": "euvt0GpDSleW"
      },
      "source": [
        "# Exploración de los datos"
      ]
    },
    {
      "cell_type": "code",
      "metadata": {
        "id": "AHygXfT0khAD",
        "colab": {
          "base_uri": "https://localhost:8080/"
        },
        "outputId": "71790ef3-9164-4e73-ec2c-48c06d804da6"
      },
      "source": [
        "from google.colab import drive\n",
        "\n",
        "drive.mount('/content/gdrive')"
      ],
      "execution_count": 63,
      "outputs": [
        {
          "output_type": "stream",
          "text": [
            "Drive already mounted at /content/gdrive; to attempt to forcibly remount, call drive.mount(\"/content/gdrive\", force_remount=True).\n"
          ],
          "name": "stdout"
        }
      ]
    },
    {
      "cell_type": "markdown",
      "metadata": {
        "id": "pB6r0dWJQkFe"
      },
      "source": [
        "El caso de negocio: Una importante productora quiere asistir a sus guionistas proporcionandoles información que les permita anticiparse a caracteristicas claves que deteminan el exito de una pelicula."
      ]
    },
    {
      "cell_type": "code",
      "metadata": {
        "id": "l2cpxvF2FbLe"
      },
      "source": [
        "from pathlib import Path"
      ],
      "execution_count": 64,
      "outputs": []
    },
    {
      "cell_type": "code",
      "metadata": {
        "id": "TOmfLpIeEQ5Q"
      },
      "source": [
        "import matplotlib.pyplot as plt\n",
        "import numpy as np\n",
        "\n",
        "PATH = Path('/content/gdrive/MyDrive/data')"
      ],
      "execution_count": 65,
      "outputs": []
    },
    {
      "cell_type": "code",
      "metadata": {
        "colab": {
          "base_uri": "https://localhost:8080/"
        },
        "id": "mZkNCojVJw5B",
        "outputId": "79226812-ea8e-4bcb-ede2-b90554b0c42a"
      },
      "source": [
        "list(PATH.glob('*'))"
      ],
      "execution_count": 66,
      "outputs": [
        {
          "output_type": "execute_result",
          "data": {
            "text/plain": [
              "[PosixPath('/content/gdrive/MyDrive/data/aclImdb_v1.tar.gz'),\n",
              " PosixPath('/content/gdrive/MyDrive/data/title.basics.tsv.gz'),\n",
              " PosixPath('/content/gdrive/MyDrive/data/title.ratings.tsv.gz'),\n",
              " PosixPath('/content/gdrive/MyDrive/data/title.crew.tsv.gz'),\n",
              " PosixPath('/content/gdrive/MyDrive/data/title.principals.tsv.gz'),\n",
              " PosixPath('/content/gdrive/MyDrive/data/title.akas.tsv.gz'),\n",
              " PosixPath('/content/gdrive/MyDrive/data/movie_metadata.csv')]"
            ]
          },
          "metadata": {
            "tags": []
          },
          "execution_count": 66
        }
      ]
    },
    {
      "cell_type": "markdown",
      "metadata": {
        "id": "pdm9HbWeMA9u"
      },
      "source": [
        "Arrancamos por title basics\n",
        "Ver documentacion de columnas aca:https://www.imdb.com/interfaces/\n",
        "\n"
      ]
    },
    {
      "cell_type": "markdown",
      "metadata": {
        "id": "EHitT5hwSxG5"
      },
      "source": [
        "Tomo el Data set Title Basics"
      ]
    },
    {
      "cell_type": "code",
      "metadata": {
        "colab": {
          "base_uri": "https://localhost:8080/"
        },
        "id": "D6nLYfDcMMuA",
        "outputId": "c6f7f048-239f-4444-bba7-63f0a5abab2b"
      },
      "source": [
        "import pandas as pd\n",
        "\n",
        "title_basics = pd.read_csv(PATH / 'title.basics.tsv.gz', sep='\\t')\n",
        "#import gzip\n",
        "#title_basics = gzip.open(PATH / 'title.basics.tsv.gz', 'rb')\n",
        "len(title_basics)"
      ],
      "execution_count": 67,
      "outputs": [
        {
          "output_type": "stream",
          "text": [
            "/usr/local/lib/python3.6/dist-packages/IPython/core/interactiveshell.py:2718: DtypeWarning: Columns (5) have mixed types.Specify dtype option on import or set low_memory=False.\n",
            "  interactivity=interactivity, compiler=compiler, result=result)\n"
          ],
          "name": "stderr"
        },
        {
          "output_type": "execute_result",
          "data": {
            "text/plain": [
              "7360387"
            ]
          },
          "metadata": {
            "tags": []
          },
          "execution_count": 67
        }
      ]
    },
    {
      "cell_type": "markdown",
      "metadata": {
        "id": "GR8kku2ePzzQ"
      },
      "source": [
        "Tengo mas de 7 millones de datos. El archivo tsv significa que esta separado por espacios"
      ]
    },
    {
      "cell_type": "markdown",
      "metadata": {
        "id": "FFIaXPpLM4kG"
      },
      "source": [
        "# A ver algunas **rows** "
      ]
    },
    {
      "cell_type": "code",
      "metadata": {
        "colab": {
          "base_uri": "https://localhost:8080/"
        },
        "id": "g_TDdJ-9Mnmi",
        "outputId": "5eb41be4-a4c2-4e80-bee2-add6fb2e2963"
      },
      "source": [
        "title_basics.dtypes"
      ],
      "execution_count": 68,
      "outputs": [
        {
          "output_type": "execute_result",
          "data": {
            "text/plain": [
              "tconst            object\n",
              "titleType         object\n",
              "primaryTitle      object\n",
              "originalTitle     object\n",
              "isAdult            int64\n",
              "startYear         object\n",
              "endYear           object\n",
              "runtimeMinutes    object\n",
              "genres            object\n",
              "dtype: object"
            ]
          },
          "metadata": {
            "tags": []
          },
          "execution_count": 68
        }
      ]
    },
    {
      "cell_type": "markdown",
      "metadata": {
        "id": "kbZ5K-1SNH8n"
      },
      "source": [
        "### titleType"
      ]
    },
    {
      "cell_type": "code",
      "metadata": {
        "colab": {
          "base_uri": "https://localhost:8080/"
        },
        "id": "m-2tnay-NF-l",
        "outputId": "390de10f-7ab0-4833-86d1-1f4133efb0de"
      },
      "source": [
        "title_basics.titleType.value_counts()"
      ],
      "execution_count": 69,
      "outputs": [
        {
          "output_type": "execute_result",
          "data": {
            "text/plain": [
              "tvEpisode       5309219\n",
              "short            779055\n",
              "movie            559578\n",
              "video            286901\n",
              "tvSeries         196364\n",
              "tvMovie          111544\n",
              "tvMiniSeries      34353\n",
              "tvSpecial         30347\n",
              "videoGame         26795\n",
              "tvShort           26228\n",
              "episode               1\n",
              "audiobook             1\n",
              "radioSeries           1\n",
              "Name: titleType, dtype: int64"
            ]
          },
          "metadata": {
            "tags": []
          },
          "execution_count": 69
        }
      ]
    },
    {
      "cell_type": "markdown",
      "metadata": {
        "id": "IgY_4rFaNRB0"
      },
      "source": [
        "Dentro del 'Explore the Data' Descartamos algunos (no aplican para lo que estamos trabajando ahora)\n",
        "el código con ~ y isin es complejo de entender:\n",
        "leamos el código desde adentro hacia afuera, del total --> todas las que esten en .isin (las que quiero quitar) y con ~ las quito del total."
      ]
    },
    {
      "cell_type": "code",
      "metadata": {
        "colab": {
          "base_uri": "https://localhost:8080/"
        },
        "id": "5ZTgRwtyNWEY",
        "outputId": "bad333bf-ae9f-47bb-f02e-9b56a3e8848a"
      },
      "source": [
        "title_basics = title_basics[\n",
        "    # Dejamos movie, tvSpecial, video y tvMovie por ahora, vamos a ver de que se tratan\n",
        "    ~title_basics.titleType.isin(['tvEpisode', 'tvSeries', 'tvMiniSeries', 'videoGame', 'tvShort', 'short'])\n",
        "]\n",
        "\n",
        "len(title_basics) # vemos con cuanta data nos quedamos"
      ],
      "execution_count": 70,
      "outputs": [
        {
          "output_type": "execute_result",
          "data": {
            "text/plain": [
              "988373"
            ]
          },
          "metadata": {
            "tags": []
          },
          "execution_count": 70
        }
      ]
    },
    {
      "cell_type": "code",
      "metadata": {
        "colab": {
          "base_uri": "https://localhost:8080/"
        },
        "id": "LekEP-kiT5Cw",
        "outputId": "d551a777-1727-404b-8d71-3f6584cfc0cf"
      },
      "source": [
        "title_basics.titleType.value_counts()"
      ],
      "execution_count": 72,
      "outputs": [
        {
          "output_type": "execute_result",
          "data": {
            "text/plain": [
              "movie          559578\n",
              "video          286901\n",
              "tvMovie        111544\n",
              "tvSpecial       30347\n",
              "audiobook           1\n",
              "episode             1\n",
              "radioSeries         1\n",
              "Name: titleType, dtype: int64"
            ]
          },
          "metadata": {
            "tags": []
          },
          "execution_count": 72
        }
      ]
    },
    {
      "cell_type": "markdown",
      "metadata": {
        "id": "ypvMe26vCfhp"
      },
      "source": [
        "La cantidad de datos bajo sensiblemente"
      ]
    },
    {
      "cell_type": "code",
      "metadata": {
        "colab": {
          "base_uri": "https://localhost:8080/",
          "height": 195
        },
        "id": "exlD8ek4NcdS",
        "outputId": "27bd38f0-40ea-40e7-a15b-0936e80942cc"
      },
      "source": [
        "title_basics.head()"
      ],
      "execution_count": 73,
      "outputs": [
        {
          "output_type": "execute_result",
          "data": {
            "text/html": [
              "<div>\n",
              "<style scoped>\n",
              "    .dataframe tbody tr th:only-of-type {\n",
              "        vertical-align: middle;\n",
              "    }\n",
              "\n",
              "    .dataframe tbody tr th {\n",
              "        vertical-align: top;\n",
              "    }\n",
              "\n",
              "    .dataframe thead th {\n",
              "        text-align: right;\n",
              "    }\n",
              "</style>\n",
              "<table border=\"1\" class=\"dataframe\">\n",
              "  <thead>\n",
              "    <tr style=\"text-align: right;\">\n",
              "      <th></th>\n",
              "      <th>tconst</th>\n",
              "      <th>titleType</th>\n",
              "      <th>primaryTitle</th>\n",
              "      <th>originalTitle</th>\n",
              "      <th>isAdult</th>\n",
              "      <th>startYear</th>\n",
              "      <th>endYear</th>\n",
              "      <th>runtimeMinutes</th>\n",
              "      <th>genres</th>\n",
              "    </tr>\n",
              "  </thead>\n",
              "  <tbody>\n",
              "    <tr>\n",
              "      <th>8</th>\n",
              "      <td>tt0000009</td>\n",
              "      <td>movie</td>\n",
              "      <td>Miss Jerry</td>\n",
              "      <td>Miss Jerry</td>\n",
              "      <td>0</td>\n",
              "      <td>1894</td>\n",
              "      <td>\\N</td>\n",
              "      <td>45</td>\n",
              "      <td>Romance</td>\n",
              "    </tr>\n",
              "    <tr>\n",
              "      <th>331</th>\n",
              "      <td>tt0000335</td>\n",
              "      <td>movie</td>\n",
              "      <td>Soldiers of the Cross</td>\n",
              "      <td>Soldiers of the Cross</td>\n",
              "      <td>0</td>\n",
              "      <td>1900</td>\n",
              "      <td>\\N</td>\n",
              "      <td>\\N</td>\n",
              "      <td>Biography,Drama</td>\n",
              "    </tr>\n",
              "    <tr>\n",
              "      <th>498</th>\n",
              "      <td>tt0000502</td>\n",
              "      <td>movie</td>\n",
              "      <td>Bohemios</td>\n",
              "      <td>Bohemios</td>\n",
              "      <td>0</td>\n",
              "      <td>1905</td>\n",
              "      <td>\\N</td>\n",
              "      <td>100</td>\n",
              "      <td>\\N</td>\n",
              "    </tr>\n",
              "    <tr>\n",
              "      <th>570</th>\n",
              "      <td>tt0000574</td>\n",
              "      <td>movie</td>\n",
              "      <td>The Story of the Kelly Gang</td>\n",
              "      <td>The Story of the Kelly Gang</td>\n",
              "      <td>0</td>\n",
              "      <td>1906</td>\n",
              "      <td>\\N</td>\n",
              "      <td>70</td>\n",
              "      <td>Biography,Crime,Drama</td>\n",
              "    </tr>\n",
              "    <tr>\n",
              "      <th>610</th>\n",
              "      <td>tt0000615</td>\n",
              "      <td>movie</td>\n",
              "      <td>Robbery Under Arms</td>\n",
              "      <td>Robbery Under Arms</td>\n",
              "      <td>0</td>\n",
              "      <td>1907</td>\n",
              "      <td>\\N</td>\n",
              "      <td>\\N</td>\n",
              "      <td>Drama</td>\n",
              "    </tr>\n",
              "  </tbody>\n",
              "</table>\n",
              "</div>"
            ],
            "text/plain": [
              "        tconst titleType  ... runtimeMinutes                 genres\n",
              "8    tt0000009     movie  ...             45                Romance\n",
              "331  tt0000335     movie  ...             \\N        Biography,Drama\n",
              "498  tt0000502     movie  ...            100                     \\N\n",
              "570  tt0000574     movie  ...             70  Biography,Crime,Drama\n",
              "610  tt0000615     movie  ...             \\N                  Drama\n",
              "\n",
              "[5 rows x 9 columns]"
            ]
          },
          "metadata": {
            "tags": []
          },
          "execution_count": 73
        }
      ]
    },
    {
      "cell_type": "markdown",
      "metadata": {
        "id": "vEQ7sf55Nst8"
      },
      "source": [
        "Fijarse en: runtimeMinutes '\\N'. Lo pasaremos a tipo: Not a number"
      ]
    },
    {
      "cell_type": "code",
      "metadata": {
        "id": "qERY_ApXN6Xg"
      },
      "source": [
        "# Convertimos runtimeMinutes a float. No se puede tener una columna de tipo int con NaN. lo pasamos a np.nan que quiere decir not a number.\n",
        "title_basics.runtimeMinutes = (\n",
        "    title_basics.runtimeMinutes.apply(lambda x: np.nan if x == r'\\N' else x).astype(float)\n",
        ")"
      ],
      "execution_count": 74,
      "outputs": []
    },
    {
      "cell_type": "markdown",
      "metadata": {
        "id": "YaKDk_u2OU2P"
      },
      "source": [
        "Un float en python es un tipo de variable que permite guardar numeros reales, a diferencia de un \"int\" (un int es tipo de variable que guarda números entero) este puede contener decimales, ejemplo de floats: 3.1415."
      ]
    },
    {
      "cell_type": "code",
      "metadata": {
        "colab": {
          "base_uri": "https://localhost:8080/",
          "height": 265
        },
        "id": "dXif0roFOBe2",
        "outputId": "ecb1886f-6fa5-4675-faca-94d786b053d4"
      },
      "source": [
        "title_basics.runtimeMinutes.dropna().hist();"
      ],
      "execution_count": 75,
      "outputs": [
        {
          "output_type": "display_data",
          "data": {
            "image/png": "[encoded data removed]",
            "text/plain": [
              "<Figure size 432x288 with 1 Axes>"
            ]
          },
          "metadata": {
            "tags": [],
            "needs_background": "light"
          }
        }
      ]
    },
    {
      "cell_type": "markdown",
      "metadata": {
        "id": "um6idzwTObF3"
      },
      "source": [
        "Intentamos hacer un histograma, pero no se ve nada. Parece tener algunos valores muy grandes"
      ]
    },
    {
      "cell_type": "code",
      "metadata": {
        "colab": {
          "base_uri": "https://localhost:8080/",
          "height": 195
        },
        "id": "ilKQXyEqOXHZ",
        "outputId": "e3d3a4e3-badc-4b9d-b93a-645a43931d51"
      },
      "source": [
        "title_basics.sort_values('runtimeMinutes', ascending=False).head()"
      ],
      "execution_count": 76,
      "outputs": [
        {
          "output_type": "execute_result",
          "data": {
            "text/html": [
              "<div>\n",
              "<style scoped>\n",
              "    .dataframe tbody tr th:only-of-type {\n",
              "        vertical-align: middle;\n",
              "    }\n",
              "\n",
              "    .dataframe tbody tr th {\n",
              "        vertical-align: top;\n",
              "    }\n",
              "\n",
              "    .dataframe thead th {\n",
              "        text-align: right;\n",
              "    }\n",
              "</style>\n",
              "<table border=\"1\" class=\"dataframe\">\n",
              "  <thead>\n",
              "    <tr style=\"text-align: right;\">\n",
              "      <th></th>\n",
              "      <th>tconst</th>\n",
              "      <th>titleType</th>\n",
              "      <th>primaryTitle</th>\n",
              "      <th>originalTitle</th>\n",
              "      <th>isAdult</th>\n",
              "      <th>startYear</th>\n",
              "      <th>endYear</th>\n",
              "      <th>runtimeMinutes</th>\n",
              "      <th>genres</th>\n",
              "    </tr>\n",
              "  </thead>\n",
              "  <tbody>\n",
              "    <tr>\n",
              "      <th>6584056</th>\n",
              "      <td>tt8273150</td>\n",
              "      <td>movie</td>\n",
              "      <td>Logistics</td>\n",
              "      <td>Logistics</td>\n",
              "      <td>0</td>\n",
              "      <td>2012</td>\n",
              "      <td>\\N</td>\n",
              "      <td>51420.0</td>\n",
              "      <td>Documentary</td>\n",
              "    </tr>\n",
              "    <tr>\n",
              "      <th>2165876</th>\n",
              "      <td>tt12095652</td>\n",
              "      <td>video</td>\n",
              "      <td>The Longest Video on YouTube: 596.5 Hours</td>\n",
              "      <td>The Longest Video on YouTube: 596.5 Hours</td>\n",
              "      <td>0</td>\n",
              "      <td>2011</td>\n",
              "      <td>\\N</td>\n",
              "      <td>35791.0</td>\n",
              "      <td>\\N</td>\n",
              "    </tr>\n",
              "    <tr>\n",
              "      <th>2268972</th>\n",
              "      <td>tt12277054</td>\n",
              "      <td>movie</td>\n",
              "      <td>Carnets Filmés (Liste Complète)</td>\n",
              "      <td>Carnets Filmés (Liste Complète)</td>\n",
              "      <td>0</td>\n",
              "      <td>2019</td>\n",
              "      <td>\\N</td>\n",
              "      <td>28643.0</td>\n",
              "      <td>Documentary</td>\n",
              "    </tr>\n",
              "    <tr>\n",
              "      <th>4066004</th>\n",
              "      <td>tt2659636</td>\n",
              "      <td>movie</td>\n",
              "      <td>Modern Times Forever</td>\n",
              "      <td>Modern Times Forever</td>\n",
              "      <td>0</td>\n",
              "      <td>2011</td>\n",
              "      <td>\\N</td>\n",
              "      <td>14400.0</td>\n",
              "      <td>Documentary</td>\n",
              "    </tr>\n",
              "    <tr>\n",
              "      <th>1943403</th>\n",
              "      <td>tt11707418</td>\n",
              "      <td>tvMovie</td>\n",
              "      <td>Svalbard Minute by Minute</td>\n",
              "      <td>Svalbard minutt for minutt</td>\n",
              "      <td>0</td>\n",
              "      <td>2020</td>\n",
              "      <td>\\N</td>\n",
              "      <td>13319.0</td>\n",
              "      <td>Adventure,Documentary</td>\n",
              "    </tr>\n",
              "  </tbody>\n",
              "</table>\n",
              "</div>"
            ],
            "text/plain": [
              "             tconst titleType  ... runtimeMinutes                 genres\n",
              "6584056   tt8273150     movie  ...        51420.0            Documentary\n",
              "2165876  tt12095652     video  ...        35791.0                     \\N\n",
              "2268972  tt12277054     movie  ...        28643.0            Documentary\n",
              "4066004   tt2659636     movie  ...        14400.0            Documentary\n",
              "1943403  tt11707418   tvMovie  ...        13319.0  Adventure,Documentary\n",
              "\n",
              "[5 rows x 9 columns]"
            ]
          },
          "metadata": {
            "tags": []
          },
          "execution_count": 76
        }
      ]
    },
    {
      "cell_type": "markdown",
      "metadata": {
        "id": "WZd-60UFOlAm"
      },
      "source": [
        "Efectivamente hay valores enormes. runtimeMinutes = 13319 quiere decir 221 horas!!!!.\n",
        "\n",
        "Garbage in garbage out. Tengo que revisar bien los datos porque sin un correcto preprocesado el modelo me dara malos resultados."
      ]
    },
    {
      "cell_type": "markdown",
      "metadata": {
        "id": "pSwHmI9qOvRe"
      },
      "source": [
        "**Cuantas peliculas de mas de 3 horas hay?**"
      ]
    },
    {
      "cell_type": "code",
      "metadata": {
        "colab": {
          "base_uri": "https://localhost:8080/"
        },
        "id": "OTUPmax_Oerb",
        "outputId": "c429710a-3f3d-4e52-a5a1-bb18c0aae8fb"
      },
      "source": [
        "(title_basics.runtimeMinutes > 3 * 60).sum() / len(title_basics)"
      ],
      "execution_count": 77,
      "outputs": [
        {
          "output_type": "execute_result",
          "data": {
            "text/plain": [
              "0.009385120799536208"
            ]
          },
          "metadata": {
            "tags": []
          },
          "execution_count": 77
        }
      ]
    },
    {
      "cell_type": "code",
      "metadata": {
        "colab": {
          "base_uri": "https://localhost:8080/"
        },
        "id": "P_AP61mhRGYs",
        "outputId": "0742152c-379b-4d8a-d61a-1441f984a2c3"
      },
      "source": [
        "title_basics.dtypes"
      ],
      "execution_count": 78,
      "outputs": [
        {
          "output_type": "execute_result",
          "data": {
            "text/plain": [
              "tconst             object\n",
              "titleType          object\n",
              "primaryTitle       object\n",
              "originalTitle      object\n",
              "isAdult             int64\n",
              "startYear          object\n",
              "endYear            object\n",
              "runtimeMinutes    float64\n",
              "genres             object\n",
              "dtype: object"
            ]
          },
          "metadata": {
            "tags": []
          },
          "execution_count": 78
        }
      ]
    },
    {
      "cell_type": "markdown",
      "metadata": {
        "id": "Y2Kh8aGnRa4i"
      },
      "source": [
        "Descartamos las series (no aplican para lo que estamos trabajando ahora), video tambien la quitaria. "
      ]
    },
    {
      "cell_type": "code",
      "metadata": {
        "colab": {
          "base_uri": "https://localhost:8080/"
        },
        "id": "a8Djs4N-RiWx",
        "outputId": "b2ebfec0-24f9-45ad-c998-2397ffb9643f"
      },
      "source": [
        "title_basics = title_basics[\n",
        "    # Dejamos tvSpecial, video y tvMovie por ahora, vamos a ver de que se tratan\n",
        "    ~title_basics.titleType.isin(['tvEpisode', 'video','tvSeries', 'tvMiniSeries', 'videoGame', 'tvShort', 'short'])\n",
        "]\n",
        "\n",
        "len(title_basics) # vemos con cuanta data nos quedamos"
      ],
      "execution_count": 79,
      "outputs": [
        {
          "output_type": "execute_result",
          "data": {
            "text/plain": [
              "701472"
            ]
          },
          "metadata": {
            "tags": []
          },
          "execution_count": 79
        }
      ]
    },
    {
      "cell_type": "markdown",
      "metadata": {
        "id": "EQVDO4kISNvm"
      },
      "source": [
        "En consecuencia, ahora tenemos aproximadamente 700 mil datos (solo el 10% del data set original), elegir con que datos seguir trabajando no es tarea fácil, para ello hay que tener presente la visión del negocio."
      ]
    },
    {
      "cell_type": "code",
      "metadata": {
        "colab": {
          "base_uri": "https://localhost:8080/",
          "height": 195
        },
        "id": "ZBWDlEIlR3NH",
        "outputId": "0f601a29-5c56-46ff-8ea0-7c33a79647ad"
      },
      "source": [
        "title_basics.head()"
      ],
      "execution_count": 80,
      "outputs": [
        {
          "output_type": "execute_result",
          "data": {
            "text/html": [
              "<div>\n",
              "<style scoped>\n",
              "    .dataframe tbody tr th:only-of-type {\n",
              "        vertical-align: middle;\n",
              "    }\n",
              "\n",
              "    .dataframe tbody tr th {\n",
              "        vertical-align: top;\n",
              "    }\n",
              "\n",
              "    .dataframe thead th {\n",
              "        text-align: right;\n",
              "    }\n",
              "</style>\n",
              "<table border=\"1\" class=\"dataframe\">\n",
              "  <thead>\n",
              "    <tr style=\"text-align: right;\">\n",
              "      <th></th>\n",
              "      <th>tconst</th>\n",
              "      <th>titleType</th>\n",
              "      <th>primaryTitle</th>\n",
              "      <th>originalTitle</th>\n",
              "      <th>isAdult</th>\n",
              "      <th>startYear</th>\n",
              "      <th>endYear</th>\n",
              "      <th>runtimeMinutes</th>\n",
              "      <th>genres</th>\n",
              "    </tr>\n",
              "  </thead>\n",
              "  <tbody>\n",
              "    <tr>\n",
              "      <th>8</th>\n",
              "      <td>tt0000009</td>\n",
              "      <td>movie</td>\n",
              "      <td>Miss Jerry</td>\n",
              "      <td>Miss Jerry</td>\n",
              "      <td>0</td>\n",
              "      <td>1894</td>\n",
              "      <td>\\N</td>\n",
              "      <td>45.0</td>\n",
              "      <td>Romance</td>\n",
              "    </tr>\n",
              "    <tr>\n",
              "      <th>331</th>\n",
              "      <td>tt0000335</td>\n",
              "      <td>movie</td>\n",
              "      <td>Soldiers of the Cross</td>\n",
              "      <td>Soldiers of the Cross</td>\n",
              "      <td>0</td>\n",
              "      <td>1900</td>\n",
              "      <td>\\N</td>\n",
              "      <td>NaN</td>\n",
              "      <td>Biography,Drama</td>\n",
              "    </tr>\n",
              "    <tr>\n",
              "      <th>498</th>\n",
              "      <td>tt0000502</td>\n",
              "      <td>movie</td>\n",
              "      <td>Bohemios</td>\n",
              "      <td>Bohemios</td>\n",
              "      <td>0</td>\n",
              "      <td>1905</td>\n",
              "      <td>\\N</td>\n",
              "      <td>100.0</td>\n",
              "      <td>\\N</td>\n",
              "    </tr>\n",
              "    <tr>\n",
              "      <th>570</th>\n",
              "      <td>tt0000574</td>\n",
              "      <td>movie</td>\n",
              "      <td>The Story of the Kelly Gang</td>\n",
              "      <td>The Story of the Kelly Gang</td>\n",
              "      <td>0</td>\n",
              "      <td>1906</td>\n",
              "      <td>\\N</td>\n",
              "      <td>70.0</td>\n",
              "      <td>Biography,Crime,Drama</td>\n",
              "    </tr>\n",
              "    <tr>\n",
              "      <th>610</th>\n",
              "      <td>tt0000615</td>\n",
              "      <td>movie</td>\n",
              "      <td>Robbery Under Arms</td>\n",
              "      <td>Robbery Under Arms</td>\n",
              "      <td>0</td>\n",
              "      <td>1907</td>\n",
              "      <td>\\N</td>\n",
              "      <td>NaN</td>\n",
              "      <td>Drama</td>\n",
              "    </tr>\n",
              "  </tbody>\n",
              "</table>\n",
              "</div>"
            ],
            "text/plain": [
              "        tconst titleType  ... runtimeMinutes                 genres\n",
              "8    tt0000009     movie  ...           45.0                Romance\n",
              "331  tt0000335     movie  ...            NaN        Biography,Drama\n",
              "498  tt0000502     movie  ...          100.0                     \\N\n",
              "570  tt0000574     movie  ...           70.0  Biography,Crime,Drama\n",
              "610  tt0000615     movie  ...            NaN                  Drama\n",
              "\n",
              "[5 rows x 9 columns]"
            ]
          },
          "metadata": {
            "tags": []
          },
          "execution_count": 80
        }
      ]
    },
    {
      "cell_type": "markdown",
      "metadata": {
        "id": "gzXYDWB8R_Xj"
      },
      "source": [
        "## runtimeMinutes"
      ]
    },
    {
      "cell_type": "code",
      "metadata": {
        "colab": {
          "base_uri": "https://localhost:8080/"
        },
        "id": "IKHKyJocTVcQ",
        "outputId": "1ca51180-163f-4d2b-9b23-a92acda2c9b1"
      },
      "source": [
        "title_basics.runtimeMinutes"
      ],
      "execution_count": 81,
      "outputs": [
        {
          "output_type": "execute_result",
          "data": {
            "text/plain": [
              "8           45.0\n",
              "331          NaN\n",
              "498        100.0\n",
              "570         70.0\n",
              "610          NaN\n",
              "           ...  \n",
              "7360303    100.0\n",
              "7360308     66.0\n",
              "7360315      NaN\n",
              "7360326    116.0\n",
              "7360337     49.0\n",
              "Name: runtimeMinutes, Length: 701472, dtype: float64"
            ]
          },
          "metadata": {
            "tags": []
          },
          "execution_count": 81
        }
      ]
    },
    {
      "cell_type": "code",
      "metadata": {
        "colab": {
          "base_uri": "https://localhost:8080/",
          "height": 47
        },
        "id": "FUTMZpFETxpL",
        "outputId": "60880822-4eb2-4e66-91a0-390d0fa6f53f"
      },
      "source": [
        "title_basics[title_basics.runtimeMinutes == r'NaN'].head()"
      ],
      "execution_count": 82,
      "outputs": [
        {
          "output_type": "execute_result",
          "data": {
            "text/html": [
              "<div>\n",
              "<style scoped>\n",
              "    .dataframe tbody tr th:only-of-type {\n",
              "        vertical-align: middle;\n",
              "    }\n",
              "\n",
              "    .dataframe tbody tr th {\n",
              "        vertical-align: top;\n",
              "    }\n",
              "\n",
              "    .dataframe thead th {\n",
              "        text-align: right;\n",
              "    }\n",
              "</style>\n",
              "<table border=\"1\" class=\"dataframe\">\n",
              "  <thead>\n",
              "    <tr style=\"text-align: right;\">\n",
              "      <th></th>\n",
              "      <th>tconst</th>\n",
              "      <th>titleType</th>\n",
              "      <th>primaryTitle</th>\n",
              "      <th>originalTitle</th>\n",
              "      <th>isAdult</th>\n",
              "      <th>startYear</th>\n",
              "      <th>endYear</th>\n",
              "      <th>runtimeMinutes</th>\n",
              "      <th>genres</th>\n",
              "    </tr>\n",
              "  </thead>\n",
              "  <tbody>\n",
              "  </tbody>\n",
              "</table>\n",
              "</div>"
            ],
            "text/plain": [
              "Empty DataFrame\n",
              "Columns: [tconst, titleType, primaryTitle, originalTitle, isAdult, startYear, endYear, runtimeMinutes, genres]\n",
              "Index: []"
            ]
          },
          "metadata": {
            "tags": []
          },
          "execution_count": 82
        }
      ]
    },
    {
      "cell_type": "code",
      "metadata": {
        "colab": {
          "base_uri": "https://localhost:8080/",
          "height": 269
        },
        "id": "xy6BLomyUwEM",
        "outputId": "61ab00b7-3eaa-4762-94e4-2393bf033365"
      },
      "source": [
        "title_basics[\n",
        "        (title_basics.runtimeMinutes == r'NaN') &\n",
        "        (title_basics.startYear != r'NaN')\n",
        "].startYear.apply(int).value_counts().sort_index().plot()"
      ],
      "execution_count": 114,
      "outputs": [
        {
          "output_type": "execute_result",
          "data": {
            "text/plain": [
              "<matplotlib.axes._subplots.AxesSubplot at 0x7fe7f3284550>"
            ]
          },
          "metadata": {
            "tags": []
          },
          "execution_count": 114
        },
        {
          "output_type": "display_data",
          "data": {
            "image/png": "[encoded data removed]",
            "text/plain": [
              "<Figure size 432x288 with 1 Axes>"
            ]
          },
          "metadata": {
            "tags": [],
            "needs_background": "light"
          }
        }
      ]
    },
    {
      "cell_type": "code",
      "metadata": {
        "colab": {
          "base_uri": "https://localhost:8080/",
          "height": 656
        },
        "id": "jxJOV-6MYTGD",
        "outputId": "7e5c1938-9952-4c29-d950-7b7b0eb68942"
      },
      "source": [
        "title_basics[title_basics.runtimeMinutes > 3 * 60].sample(20)"
      ],
      "execution_count": 84,
      "outputs": [
        {
          "output_type": "execute_result",
          "data": {
            "text/html": [
              "<div>\n",
              "<style scoped>\n",
              "    .dataframe tbody tr th:only-of-type {\n",
              "        vertical-align: middle;\n",
              "    }\n",
              "\n",
              "    .dataframe tbody tr th {\n",
              "        vertical-align: top;\n",
              "    }\n",
              "\n",
              "    .dataframe thead th {\n",
              "        text-align: right;\n",
              "    }\n",
              "</style>\n",
              "<table border=\"1\" class=\"dataframe\">\n",
              "  <thead>\n",
              "    <tr style=\"text-align: right;\">\n",
              "      <th></th>\n",
              "      <th>tconst</th>\n",
              "      <th>titleType</th>\n",
              "      <th>primaryTitle</th>\n",
              "      <th>originalTitle</th>\n",
              "      <th>isAdult</th>\n",
              "      <th>startYear</th>\n",
              "      <th>endYear</th>\n",
              "      <th>runtimeMinutes</th>\n",
              "      <th>genres</th>\n",
              "    </tr>\n",
              "  </thead>\n",
              "  <tbody>\n",
              "    <tr>\n",
              "      <th>1983467</th>\n",
              "      <td>tt11777298</td>\n",
              "      <td>movie</td>\n",
              "      <td>DAU. Degeneratsiya</td>\n",
              "      <td>DAU. Degeneratsiya</td>\n",
              "      <td>0</td>\n",
              "      <td>2020</td>\n",
              "      <td>\\N</td>\n",
              "      <td>369.0</td>\n",
              "      <td>Drama,Horror,Thriller</td>\n",
              "    </tr>\n",
              "    <tr>\n",
              "      <th>3571253</th>\n",
              "      <td>tt1976520</td>\n",
              "      <td>tvMovie</td>\n",
              "      <td>Anita Garibaldi</td>\n",
              "      <td>Anita Garibaldi</td>\n",
              "      <td>0</td>\n",
              "      <td>2012</td>\n",
              "      <td>\\N</td>\n",
              "      <td>198.0</td>\n",
              "      <td>Biography,Drama,History</td>\n",
              "    </tr>\n",
              "    <tr>\n",
              "      <th>6245971</th>\n",
              "      <td>tt7550296</td>\n",
              "      <td>movie</td>\n",
              "      <td>Mainstream: How Hollywood Movies and the New Y...</td>\n",
              "      <td>Mainstream: How Hollywood Movies and the New Y...</td>\n",
              "      <td>0</td>\n",
              "      <td>2017</td>\n",
              "      <td>\\N</td>\n",
              "      <td>208.0</td>\n",
              "      <td>Documentary</td>\n",
              "    </tr>\n",
              "    <tr>\n",
              "      <th>5237728</th>\n",
              "      <td>tt5335720</td>\n",
              "      <td>movie</td>\n",
              "      <td>Animitas, 2014</td>\n",
              "      <td>Animitas, 2014</td>\n",
              "      <td>0</td>\n",
              "      <td>2015</td>\n",
              "      <td>\\N</td>\n",
              "      <td>720.0</td>\n",
              "      <td>Documentary</td>\n",
              "    </tr>\n",
              "    <tr>\n",
              "      <th>193057</th>\n",
              "      <td>tt0200638</td>\n",
              "      <td>tvMovie</td>\n",
              "      <td>Les filles du maître de chai</td>\n",
              "      <td>Les filles du maître de chai</td>\n",
              "      <td>0</td>\n",
              "      <td>1997</td>\n",
              "      <td>\\N</td>\n",
              "      <td>271.0</td>\n",
              "      <td>Drama,Romance</td>\n",
              "    </tr>\n",
              "    <tr>\n",
              "      <th>75538</th>\n",
              "      <td>tt0077138</td>\n",
              "      <td>movie</td>\n",
              "      <td>The Tree of Wooden Clogs</td>\n",
              "      <td>L'albero degli zoccoli</td>\n",
              "      <td>0</td>\n",
              "      <td>1978</td>\n",
              "      <td>\\N</td>\n",
              "      <td>186.0</td>\n",
              "      <td>Drama,History</td>\n",
              "    </tr>\n",
              "    <tr>\n",
              "      <th>2067510</th>\n",
              "      <td>tt1192353</td>\n",
              "      <td>tvSpecial</td>\n",
              "      <td>1983 MLB All-Star Game</td>\n",
              "      <td>1983 MLB All-Star Game</td>\n",
              "      <td>0</td>\n",
              "      <td>1983</td>\n",
              "      <td>\\N</td>\n",
              "      <td>185.0</td>\n",
              "      <td>Sport</td>\n",
              "    </tr>\n",
              "    <tr>\n",
              "      <th>2354606</th>\n",
              "      <td>tt12427962</td>\n",
              "      <td>movie</td>\n",
              "      <td>Neil Breen's 5 Film Retrospective</td>\n",
              "      <td>Neil Breen's 5 Film Retrospective</td>\n",
              "      <td>0</td>\n",
              "      <td>2020</td>\n",
              "      <td>\\N</td>\n",
              "      <td>340.0</td>\n",
              "      <td>Documentary</td>\n",
              "    </tr>\n",
              "    <tr>\n",
              "      <th>6965293</th>\n",
              "      <td>tt9085374</td>\n",
              "      <td>movie</td>\n",
              "      <td>Light Years</td>\n",
              "      <td>Light Years</td>\n",
              "      <td>0</td>\n",
              "      <td>2018</td>\n",
              "      <td>\\N</td>\n",
              "      <td>193.0</td>\n",
              "      <td>\\N</td>\n",
              "    </tr>\n",
              "    <tr>\n",
              "      <th>2907664</th>\n",
              "      <td>tt13394274</td>\n",
              "      <td>movie</td>\n",
              "      <td>Raattinam</td>\n",
              "      <td>Raattinam</td>\n",
              "      <td>0</td>\n",
              "      <td>2012</td>\n",
              "      <td>\\N</td>\n",
              "      <td>202.0</td>\n",
              "      <td>Drama</td>\n",
              "    </tr>\n",
              "    <tr>\n",
              "      <th>6773390</th>\n",
              "      <td>tt8677246</td>\n",
              "      <td>movie</td>\n",
              "      <td>Bullfighting Memories</td>\n",
              "      <td>Bullfighting Memories</td>\n",
              "      <td>0</td>\n",
              "      <td>2017</td>\n",
              "      <td>\\N</td>\n",
              "      <td>1100.0</td>\n",
              "      <td>Comedy,History</td>\n",
              "    </tr>\n",
              "    <tr>\n",
              "      <th>3888189</th>\n",
              "      <td>tt2320896</td>\n",
              "      <td>movie</td>\n",
              "      <td>Aische Pervers - Perverser geht's nicht</td>\n",
              "      <td>Aische Pervers - Perverser geht's nicht</td>\n",
              "      <td>1</td>\n",
              "      <td>2011</td>\n",
              "      <td>\\N</td>\n",
              "      <td>213.0</td>\n",
              "      <td>Adult</td>\n",
              "    </tr>\n",
              "    <tr>\n",
              "      <th>4354363</th>\n",
              "      <td>tt3341104</td>\n",
              "      <td>movie</td>\n",
              "      <td>Tyrant Yeonsan</td>\n",
              "      <td>Pokgun Yeonsan</td>\n",
              "      <td>0</td>\n",
              "      <td>1962</td>\n",
              "      <td>\\N</td>\n",
              "      <td>192.0</td>\n",
              "      <td>Biography,Drama,Thriller</td>\n",
              "    </tr>\n",
              "    <tr>\n",
              "      <th>78622</th>\n",
              "      <td>tt0080316</td>\n",
              "      <td>movie</td>\n",
              "      <td>The Battle of Port Arthur</td>\n",
              "      <td>203 kochi</td>\n",
              "      <td>0</td>\n",
              "      <td>1980</td>\n",
              "      <td>\\N</td>\n",
              "      <td>185.0</td>\n",
              "      <td>Drama,History,War</td>\n",
              "    </tr>\n",
              "    <tr>\n",
              "      <th>246449</th>\n",
              "      <td>tt0256989</td>\n",
              "      <td>tvMovie</td>\n",
              "      <td>Parsifal</td>\n",
              "      <td>Parsifal</td>\n",
              "      <td>0</td>\n",
              "      <td>1993</td>\n",
              "      <td>\\N</td>\n",
              "      <td>265.0</td>\n",
              "      <td>Music</td>\n",
              "    </tr>\n",
              "    <tr>\n",
              "      <th>3362265</th>\n",
              "      <td>tt1757892</td>\n",
              "      <td>movie</td>\n",
              "      <td>The Life and Times of Allen Ginsberg Deluxe Set</td>\n",
              "      <td>The Life and Times of Allen Ginsberg Deluxe Set</td>\n",
              "      <td>0</td>\n",
              "      <td>2008</td>\n",
              "      <td>\\N</td>\n",
              "      <td>680.0</td>\n",
              "      <td>Documentary</td>\n",
              "    </tr>\n",
              "    <tr>\n",
              "      <th>840877</th>\n",
              "      <td>tt0867358</td>\n",
              "      <td>tvMovie</td>\n",
              "      <td>Mon frère Jacques</td>\n",
              "      <td>Mon frère Jacques</td>\n",
              "      <td>0</td>\n",
              "      <td>1961</td>\n",
              "      <td>\\N</td>\n",
              "      <td>240.0</td>\n",
              "      <td>Documentary</td>\n",
              "    </tr>\n",
              "    <tr>\n",
              "      <th>257793</th>\n",
              "      <td>tt0268875</td>\n",
              "      <td>tvSpecial</td>\n",
              "      <td>The 67th Annual Academy Awards</td>\n",
              "      <td>The 67th Annual Academy Awards</td>\n",
              "      <td>0</td>\n",
              "      <td>1995</td>\n",
              "      <td>\\N</td>\n",
              "      <td>215.0</td>\n",
              "      <td>Family</td>\n",
              "    </tr>\n",
              "    <tr>\n",
              "      <th>424719</th>\n",
              "      <td>tt0441874</td>\n",
              "      <td>tvMovie</td>\n",
              "      <td>The Industry</td>\n",
              "      <td>The Industry</td>\n",
              "      <td>0</td>\n",
              "      <td>2003</td>\n",
              "      <td>\\N</td>\n",
              "      <td>184.0</td>\n",
              "      <td>Documentary,Music</td>\n",
              "    </tr>\n",
              "    <tr>\n",
              "      <th>957537</th>\n",
              "      <td>tt0988113</td>\n",
              "      <td>tvMovie</td>\n",
              "      <td>Jules Massenet: Manon</td>\n",
              "      <td>Jules Massenet: Manon</td>\n",
              "      <td>0</td>\n",
              "      <td>2007</td>\n",
              "      <td>\\N</td>\n",
              "      <td>200.0</td>\n",
              "      <td>Music</td>\n",
              "    </tr>\n",
              "  </tbody>\n",
              "</table>\n",
              "</div>"
            ],
            "text/plain": [
              "             tconst  titleType  ... runtimeMinutes                    genres\n",
              "1983467  tt11777298      movie  ...          369.0     Drama,Horror,Thriller\n",
              "3571253   tt1976520    tvMovie  ...          198.0   Biography,Drama,History\n",
              "6245971   tt7550296      movie  ...          208.0               Documentary\n",
              "5237728   tt5335720      movie  ...          720.0               Documentary\n",
              "193057    tt0200638    tvMovie  ...          271.0             Drama,Romance\n",
              "75538     tt0077138      movie  ...          186.0             Drama,History\n",
              "2067510   tt1192353  tvSpecial  ...          185.0                     Sport\n",
              "2354606  tt12427962      movie  ...          340.0               Documentary\n",
              "6965293   tt9085374      movie  ...          193.0                        \\N\n",
              "2907664  tt13394274      movie  ...          202.0                     Drama\n",
              "6773390   tt8677246      movie  ...         1100.0            Comedy,History\n",
              "3888189   tt2320896      movie  ...          213.0                     Adult\n",
              "4354363   tt3341104      movie  ...          192.0  Biography,Drama,Thriller\n",
              "78622     tt0080316      movie  ...          185.0         Drama,History,War\n",
              "246449    tt0256989    tvMovie  ...          265.0                     Music\n",
              "3362265   tt1757892      movie  ...          680.0               Documentary\n",
              "840877    tt0867358    tvMovie  ...          240.0               Documentary\n",
              "257793    tt0268875  tvSpecial  ...          215.0                    Family\n",
              "424719    tt0441874    tvMovie  ...          184.0         Documentary,Music\n",
              "957537    tt0988113    tvMovie  ...          200.0                     Music\n",
              "\n",
              "[20 rows x 9 columns]"
            ]
          },
          "metadata": {
            "tags": []
          },
          "execution_count": 84
        }
      ]
    },
    {
      "cell_type": "markdown",
      "metadata": {
        "id": "o4xx0YYAYsFG"
      },
      "source": [
        "Parece haber muchos video"
      ]
    },
    {
      "cell_type": "code",
      "metadata": {
        "colab": {
          "base_uri": "https://localhost:8080/"
        },
        "id": "KtUvt95WYqYm",
        "outputId": "ce6043e4-65c3-4def-dbe1-6ea187df4173"
      },
      "source": [
        "title_basics[title_basics.runtimeMinutes > 3 * 60].titleType.value_counts()"
      ],
      "execution_count": 85,
      "outputs": [
        {
          "output_type": "execute_result",
          "data": {
            "text/plain": [
              "movie        2027\n",
              "tvMovie      1162\n",
              "tvSpecial     788\n",
              "Name: titleType, dtype: int64"
            ]
          },
          "metadata": {
            "tags": []
          },
          "execution_count": 85
        }
      ]
    },
    {
      "cell_type": "markdown",
      "metadata": {
        "id": "z2sC69iZYxKQ"
      },
      "source": [
        "Pareciera que hay muchos videos, tvMovie y tvSpecial\n",
        "\n",
        "Por otro lado, alguna de estas estará en la base de datos de grossing? Ya que estamos, tambien podemos juntarla con la de ratings"
      ]
    },
    {
      "cell_type": "markdown",
      "metadata": {
        "id": "w0lewAa9Y3x_"
      },
      "source": [
        "## Merges para ver una foto mas completa"
      ]
    },
    {
      "cell_type": "code",
      "metadata": {
        "id": "rPMmSC7KYwAm"
      },
      "source": [
        "movie_gross = pd.read_csv(PATH / 'movie_metadata.csv')"
      ],
      "execution_count": 86,
      "outputs": []
    },
    {
      "cell_type": "markdown",
      "metadata": {
        "id": "QmCDrE3RZV80"
      },
      "source": [
        "En terminos practicos es la recaudación: Lo que quiero buscar hacer es predecir el gross, la recaudación, de una pelicula. Seria hacer una regresión al gross. "
      ]
    },
    {
      "cell_type": "code",
      "metadata": {
        "colab": {
          "base_uri": "https://localhost:8080/",
          "height": 350
        },
        "id": "tXPNq_msZI6M",
        "outputId": "6fbc5a68-b92e-4431-e112-e1e36928ed26"
      },
      "source": [
        "movie_gross.head()"
      ],
      "execution_count": 87,
      "outputs": [
        {
          "output_type": "execute_result",
          "data": {
            "text/html": [
              "<div>\n",
              "<style scoped>\n",
              "    .dataframe tbody tr th:only-of-type {\n",
              "        vertical-align: middle;\n",
              "    }\n",
              "\n",
              "    .dataframe tbody tr th {\n",
              "        vertical-align: top;\n",
              "    }\n",
              "\n",
              "    .dataframe thead th {\n",
              "        text-align: right;\n",
              "    }\n",
              "</style>\n",
              "<table border=\"1\" class=\"dataframe\">\n",
              "  <thead>\n",
              "    <tr style=\"text-align: right;\">\n",
              "      <th></th>\n",
              "      <th>color</th>\n",
              "      <th>director_name</th>\n",
              "      <th>num_critic_for_reviews</th>\n",
              "      <th>duration</th>\n",
              "      <th>director_facebook_likes</th>\n",
              "      <th>actor_3_facebook_likes</th>\n",
              "      <th>actor_2_name</th>\n",
              "      <th>actor_1_facebook_likes</th>\n",
              "      <th>gross</th>\n",
              "      <th>genres</th>\n",
              "      <th>actor_1_name</th>\n",
              "      <th>movie_title</th>\n",
              "      <th>num_voted_users</th>\n",
              "      <th>cast_total_facebook_likes</th>\n",
              "      <th>actor_3_name</th>\n",
              "      <th>facenumber_in_poster</th>\n",
              "      <th>plot_keywords</th>\n",
              "      <th>movie_imdb_link</th>\n",
              "      <th>num_user_for_reviews</th>\n",
              "      <th>language</th>\n",
              "      <th>country</th>\n",
              "      <th>content_rating</th>\n",
              "      <th>budget</th>\n",
              "      <th>title_year</th>\n",
              "      <th>actor_2_facebook_likes</th>\n",
              "      <th>imdb_score</th>\n",
              "      <th>aspect_ratio</th>\n",
              "      <th>movie_facebook_likes</th>\n",
              "    </tr>\n",
              "  </thead>\n",
              "  <tbody>\n",
              "    <tr>\n",
              "      <th>0</th>\n",
              "      <td>Color</td>\n",
              "      <td>James Cameron</td>\n",
              "      <td>723.0</td>\n",
              "      <td>178.0</td>\n",
              "      <td>0.0</td>\n",
              "      <td>855.0</td>\n",
              "      <td>Joel David Moore</td>\n",
              "      <td>1000.0</td>\n",
              "      <td>760505847.0</td>\n",
              "      <td>Action|Adventure|Fantasy|Sci-Fi</td>\n",
              "      <td>CCH Pounder</td>\n",
              "      <td>Avatar</td>\n",
              "      <td>886204</td>\n",
              "      <td>4834</td>\n",
              "      <td>Wes Studi</td>\n",
              "      <td>0.0</td>\n",
              "      <td>avatar|future|marine|native|paraplegic</td>\n",
              "      <td>http://www.imdb.com/title/tt0499549/?ref_=fn_t...</td>\n",
              "      <td>3054.0</td>\n",
              "      <td>English</td>\n",
              "      <td>USA</td>\n",
              "      <td>PG-13</td>\n",
              "      <td>237000000.0</td>\n",
              "      <td>2009.0</td>\n",
              "      <td>936.0</td>\n",
              "      <td>7.9</td>\n",
              "      <td>1.78</td>\n",
              "      <td>33000</td>\n",
              "    </tr>\n",
              "    <tr>\n",
              "      <th>1</th>\n",
              "      <td>Color</td>\n",
              "      <td>Gore Verbinski</td>\n",
              "      <td>302.0</td>\n",
              "      <td>169.0</td>\n",
              "      <td>563.0</td>\n",
              "      <td>1000.0</td>\n",
              "      <td>Orlando Bloom</td>\n",
              "      <td>40000.0</td>\n",
              "      <td>309404152.0</td>\n",
              "      <td>Action|Adventure|Fantasy</td>\n",
              "      <td>Johnny Depp</td>\n",
              "      <td>Pirates of the Caribbean: At World's End</td>\n",
              "      <td>471220</td>\n",
              "      <td>48350</td>\n",
              "      <td>Jack Davenport</td>\n",
              "      <td>0.0</td>\n",
              "      <td>goddess|marriage ceremony|marriage proposal|pi...</td>\n",
              "      <td>http://www.imdb.com/title/tt0449088/?ref_=fn_t...</td>\n",
              "      <td>1238.0</td>\n",
              "      <td>English</td>\n",
              "      <td>USA</td>\n",
              "      <td>PG-13</td>\n",
              "      <td>300000000.0</td>\n",
              "      <td>2007.0</td>\n",
              "      <td>5000.0</td>\n",
              "      <td>7.1</td>\n",
              "      <td>2.35</td>\n",
              "      <td>0</td>\n",
              "    </tr>\n",
              "    <tr>\n",
              "      <th>2</th>\n",
              "      <td>Color</td>\n",
              "      <td>Sam Mendes</td>\n",
              "      <td>602.0</td>\n",
              "      <td>148.0</td>\n",
              "      <td>0.0</td>\n",
              "      <td>161.0</td>\n",
              "      <td>Rory Kinnear</td>\n",
              "      <td>11000.0</td>\n",
              "      <td>200074175.0</td>\n",
              "      <td>Action|Adventure|Thriller</td>\n",
              "      <td>Christoph Waltz</td>\n",
              "      <td>Spectre</td>\n",
              "      <td>275868</td>\n",
              "      <td>11700</td>\n",
              "      <td>Stephanie Sigman</td>\n",
              "      <td>1.0</td>\n",
              "      <td>bomb|espionage|sequel|spy|terrorist</td>\n",
              "      <td>http://www.imdb.com/title/tt2379713/?ref_=fn_t...</td>\n",
              "      <td>994.0</td>\n",
              "      <td>English</td>\n",
              "      <td>UK</td>\n",
              "      <td>PG-13</td>\n",
              "      <td>245000000.0</td>\n",
              "      <td>2015.0</td>\n",
              "      <td>393.0</td>\n",
              "      <td>6.8</td>\n",
              "      <td>2.35</td>\n",
              "      <td>85000</td>\n",
              "    </tr>\n",
              "    <tr>\n",
              "      <th>3</th>\n",
              "      <td>Color</td>\n",
              "      <td>Christopher Nolan</td>\n",
              "      <td>813.0</td>\n",
              "      <td>164.0</td>\n",
              "      <td>22000.0</td>\n",
              "      <td>23000.0</td>\n",
              "      <td>Christian Bale</td>\n",
              "      <td>27000.0</td>\n",
              "      <td>448130642.0</td>\n",
              "      <td>Action|Thriller</td>\n",
              "      <td>Tom Hardy</td>\n",
              "      <td>The Dark Knight Rises</td>\n",
              "      <td>1144337</td>\n",
              "      <td>106759</td>\n",
              "      <td>Joseph Gordon-Levitt</td>\n",
              "      <td>0.0</td>\n",
              "      <td>deception|imprisonment|lawlessness|police offi...</td>\n",
              "      <td>http://www.imdb.com/title/tt1345836/?ref_=fn_t...</td>\n",
              "      <td>2701.0</td>\n",
              "      <td>English</td>\n",
              "      <td>USA</td>\n",
              "      <td>PG-13</td>\n",
              "      <td>250000000.0</td>\n",
              "      <td>2012.0</td>\n",
              "      <td>23000.0</td>\n",
              "      <td>8.5</td>\n",
              "      <td>2.35</td>\n",
              "      <td>164000</td>\n",
              "    </tr>\n",
              "    <tr>\n",
              "      <th>4</th>\n",
              "      <td>NaN</td>\n",
              "      <td>Doug Walker</td>\n",
              "      <td>NaN</td>\n",
              "      <td>NaN</td>\n",
              "      <td>131.0</td>\n",
              "      <td>NaN</td>\n",
              "      <td>Rob Walker</td>\n",
              "      <td>131.0</td>\n",
              "      <td>NaN</td>\n",
              "      <td>Documentary</td>\n",
              "      <td>Doug Walker</td>\n",
              "      <td>Star Wars: Episode VII - The Force Awakens    ...</td>\n",
              "      <td>8</td>\n",
              "      <td>143</td>\n",
              "      <td>NaN</td>\n",
              "      <td>0.0</td>\n",
              "      <td>NaN</td>\n",
              "      <td>http://www.imdb.com/title/tt5289954/?ref_=fn_t...</td>\n",
              "      <td>NaN</td>\n",
              "      <td>NaN</td>\n",
              "      <td>NaN</td>\n",
              "      <td>NaN</td>\n",
              "      <td>NaN</td>\n",
              "      <td>NaN</td>\n",
              "      <td>12.0</td>\n",
              "      <td>7.1</td>\n",
              "      <td>NaN</td>\n",
              "      <td>0</td>\n",
              "    </tr>\n",
              "  </tbody>\n",
              "</table>\n",
              "</div>"
            ],
            "text/plain": [
              "   color      director_name  ...  aspect_ratio  movie_facebook_likes\n",
              "0  Color      James Cameron  ...          1.78                 33000\n",
              "1  Color     Gore Verbinski  ...          2.35                     0\n",
              "2  Color         Sam Mendes  ...          2.35                 85000\n",
              "3  Color  Christopher Nolan  ...          2.35                164000\n",
              "4    NaN        Doug Walker  ...           NaN                     0\n",
              "\n",
              "[5 rows x 28 columns]"
            ]
          },
          "metadata": {
            "tags": []
          },
          "execution_count": 87
        }
      ]
    },
    {
      "cell_type": "code",
      "metadata": {
        "colab": {
          "base_uri": "https://localhost:8080/"
        },
        "id": "9QuNMS3NZrUT",
        "outputId": "3e1d210c-e122-42a9-e464-8a72a2d7db8a"
      },
      "source": [
        "len(movie_gross)"
      ],
      "execution_count": 88,
      "outputs": [
        {
          "output_type": "execute_result",
          "data": {
            "text/plain": [
              "5043"
            ]
          },
          "metadata": {
            "tags": []
          },
          "execution_count": 88
        }
      ]
    },
    {
      "cell_type": "code",
      "metadata": {
        "colab": {
          "base_uri": "https://localhost:8080/"
        },
        "id": "drh-7VFeZu7c",
        "outputId": "4af6a1c6-eb1b-4753-cd69-6c76ca750aee"
      },
      "source": [
        "movie_gross.columns"
      ],
      "execution_count": 89,
      "outputs": [
        {
          "output_type": "execute_result",
          "data": {
            "text/plain": [
              "Index(['color', 'director_name', 'num_critic_for_reviews', 'duration',\n",
              "       'director_facebook_likes', 'actor_3_facebook_likes', 'actor_2_name',\n",
              "       'actor_1_facebook_likes', 'gross', 'genres', 'actor_1_name',\n",
              "       'movie_title', 'num_voted_users', 'cast_total_facebook_likes',\n",
              "       'actor_3_name', 'facenumber_in_poster', 'plot_keywords',\n",
              "       'movie_imdb_link', 'num_user_for_reviews', 'language', 'country',\n",
              "       'content_rating', 'budget', 'title_year', 'actor_2_facebook_likes',\n",
              "       'imdb_score', 'aspect_ratio', 'movie_facebook_likes'],\n",
              "      dtype='object')"
            ]
          },
          "metadata": {
            "tags": []
          },
          "execution_count": 89
        }
      ]
    },
    {
      "cell_type": "code",
      "metadata": {
        "colab": {
          "base_uri": "https://localhost:8080/"
        },
        "id": "kj167alCaE3S",
        "outputId": "b781ab5b-373d-41d3-cd09-47d91c133b17"
      },
      "source": [
        "# No tenemos el id, pero tenemos el link\n",
        "movie_gross.movie_imdb_link.head()"
      ],
      "execution_count": 90,
      "outputs": [
        {
          "output_type": "execute_result",
          "data": {
            "text/plain": [
              "0    http://www.imdb.com/title/tt0499549/?ref_=fn_t...\n",
              "1    http://www.imdb.com/title/tt0449088/?ref_=fn_t...\n",
              "2    http://www.imdb.com/title/tt2379713/?ref_=fn_t...\n",
              "3    http://www.imdb.com/title/tt1345836/?ref_=fn_t...\n",
              "4    http://www.imdb.com/title/tt5289954/?ref_=fn_t...\n",
              "Name: movie_imdb_link, dtype: object"
            ]
          },
          "metadata": {
            "tags": []
          },
          "execution_count": 90
        }
      ]
    },
    {
      "cell_type": "code",
      "metadata": {
        "id": "GJdvywliaGTR"
      },
      "source": [
        "movie_gross['tconst'] = movie_gross.movie_imdb_link.apply(lambda x: x.split('/')[4])"
      ],
      "execution_count": 91,
      "outputs": []
    },
    {
      "cell_type": "code",
      "metadata": {
        "id": "tk9hZ7-ZaKI-"
      },
      "source": [
        "# A priori solo nos interesa el tconst y el gross\n",
        "\n",
        "movie_gross = movie_gross[['tconst', 'gross']]"
      ],
      "execution_count": 92,
      "outputs": []
    },
    {
      "cell_type": "code",
      "metadata": {
        "colab": {
          "base_uri": "https://localhost:8080/",
          "height": 195
        },
        "id": "VteT2Bu4aig-",
        "outputId": "a32244e6-3245-4fb9-ab7e-1edb4cfcafc1"
      },
      "source": [
        "movie_gross.head()"
      ],
      "execution_count": 93,
      "outputs": [
        {
          "output_type": "execute_result",
          "data": {
            "text/html": [
              "<div>\n",
              "<style scoped>\n",
              "    .dataframe tbody tr th:only-of-type {\n",
              "        vertical-align: middle;\n",
              "    }\n",
              "\n",
              "    .dataframe tbody tr th {\n",
              "        vertical-align: top;\n",
              "    }\n",
              "\n",
              "    .dataframe thead th {\n",
              "        text-align: right;\n",
              "    }\n",
              "</style>\n",
              "<table border=\"1\" class=\"dataframe\">\n",
              "  <thead>\n",
              "    <tr style=\"text-align: right;\">\n",
              "      <th></th>\n",
              "      <th>tconst</th>\n",
              "      <th>gross</th>\n",
              "    </tr>\n",
              "  </thead>\n",
              "  <tbody>\n",
              "    <tr>\n",
              "      <th>0</th>\n",
              "      <td>tt0499549</td>\n",
              "      <td>760505847.0</td>\n",
              "    </tr>\n",
              "    <tr>\n",
              "      <th>1</th>\n",
              "      <td>tt0449088</td>\n",
              "      <td>309404152.0</td>\n",
              "    </tr>\n",
              "    <tr>\n",
              "      <th>2</th>\n",
              "      <td>tt2379713</td>\n",
              "      <td>200074175.0</td>\n",
              "    </tr>\n",
              "    <tr>\n",
              "      <th>3</th>\n",
              "      <td>tt1345836</td>\n",
              "      <td>448130642.0</td>\n",
              "    </tr>\n",
              "    <tr>\n",
              "      <th>4</th>\n",
              "      <td>tt5289954</td>\n",
              "      <td>NaN</td>\n",
              "    </tr>\n",
              "  </tbody>\n",
              "</table>\n",
              "</div>"
            ],
            "text/plain": [
              "      tconst        gross\n",
              "0  tt0499549  760505847.0\n",
              "1  tt0449088  309404152.0\n",
              "2  tt2379713  200074175.0\n",
              "3  tt1345836  448130642.0\n",
              "4  tt5289954          NaN"
            ]
          },
          "metadata": {
            "tags": []
          },
          "execution_count": 93
        }
      ]
    },
    {
      "cell_type": "code",
      "metadata": {
        "colab": {
          "base_uri": "https://localhost:8080/",
          "height": 195
        },
        "id": "AFcJ-eMVafcR",
        "outputId": "4f836356-75d3-415f-a4cb-2fb8d3040914"
      },
      "source": [
        "title_basics.head()"
      ],
      "execution_count": 94,
      "outputs": [
        {
          "output_type": "execute_result",
          "data": {
            "text/html": [
              "<div>\n",
              "<style scoped>\n",
              "    .dataframe tbody tr th:only-of-type {\n",
              "        vertical-align: middle;\n",
              "    }\n",
              "\n",
              "    .dataframe tbody tr th {\n",
              "        vertical-align: top;\n",
              "    }\n",
              "\n",
              "    .dataframe thead th {\n",
              "        text-align: right;\n",
              "    }\n",
              "</style>\n",
              "<table border=\"1\" class=\"dataframe\">\n",
              "  <thead>\n",
              "    <tr style=\"text-align: right;\">\n",
              "      <th></th>\n",
              "      <th>tconst</th>\n",
              "      <th>titleType</th>\n",
              "      <th>primaryTitle</th>\n",
              "      <th>originalTitle</th>\n",
              "      <th>isAdult</th>\n",
              "      <th>startYear</th>\n",
              "      <th>endYear</th>\n",
              "      <th>runtimeMinutes</th>\n",
              "      <th>genres</th>\n",
              "    </tr>\n",
              "  </thead>\n",
              "  <tbody>\n",
              "    <tr>\n",
              "      <th>8</th>\n",
              "      <td>tt0000009</td>\n",
              "      <td>movie</td>\n",
              "      <td>Miss Jerry</td>\n",
              "      <td>Miss Jerry</td>\n",
              "      <td>0</td>\n",
              "      <td>1894</td>\n",
              "      <td>\\N</td>\n",
              "      <td>45.0</td>\n",
              "      <td>Romance</td>\n",
              "    </tr>\n",
              "    <tr>\n",
              "      <th>331</th>\n",
              "      <td>tt0000335</td>\n",
              "      <td>movie</td>\n",
              "      <td>Soldiers of the Cross</td>\n",
              "      <td>Soldiers of the Cross</td>\n",
              "      <td>0</td>\n",
              "      <td>1900</td>\n",
              "      <td>\\N</td>\n",
              "      <td>NaN</td>\n",
              "      <td>Biography,Drama</td>\n",
              "    </tr>\n",
              "    <tr>\n",
              "      <th>498</th>\n",
              "      <td>tt0000502</td>\n",
              "      <td>movie</td>\n",
              "      <td>Bohemios</td>\n",
              "      <td>Bohemios</td>\n",
              "      <td>0</td>\n",
              "      <td>1905</td>\n",
              "      <td>\\N</td>\n",
              "      <td>100.0</td>\n",
              "      <td>\\N</td>\n",
              "    </tr>\n",
              "    <tr>\n",
              "      <th>570</th>\n",
              "      <td>tt0000574</td>\n",
              "      <td>movie</td>\n",
              "      <td>The Story of the Kelly Gang</td>\n",
              "      <td>The Story of the Kelly Gang</td>\n",
              "      <td>0</td>\n",
              "      <td>1906</td>\n",
              "      <td>\\N</td>\n",
              "      <td>70.0</td>\n",
              "      <td>Biography,Crime,Drama</td>\n",
              "    </tr>\n",
              "    <tr>\n",
              "      <th>610</th>\n",
              "      <td>tt0000615</td>\n",
              "      <td>movie</td>\n",
              "      <td>Robbery Under Arms</td>\n",
              "      <td>Robbery Under Arms</td>\n",
              "      <td>0</td>\n",
              "      <td>1907</td>\n",
              "      <td>\\N</td>\n",
              "      <td>NaN</td>\n",
              "      <td>Drama</td>\n",
              "    </tr>\n",
              "  </tbody>\n",
              "</table>\n",
              "</div>"
            ],
            "text/plain": [
              "        tconst titleType  ... runtimeMinutes                 genres\n",
              "8    tt0000009     movie  ...           45.0                Romance\n",
              "331  tt0000335     movie  ...            NaN        Biography,Drama\n",
              "498  tt0000502     movie  ...          100.0                     \\N\n",
              "570  tt0000574     movie  ...           70.0  Biography,Crime,Drama\n",
              "610  tt0000615     movie  ...            NaN                  Drama\n",
              "\n",
              "[5 rows x 9 columns]"
            ]
          },
          "metadata": {
            "tags": []
          },
          "execution_count": 94
        }
      ]
    },
    {
      "cell_type": "markdown",
      "metadata": {
        "id": "Waq6cVBsaqGK"
      },
      "source": [
        "Vamos a mergear (join) las bases de datos con (on) 'tconst'"
      ]
    },
    {
      "cell_type": "code",
      "metadata": {
        "id": "GD_p5TIxaZwr"
      },
      "source": [
        "movies = title_basics.merge(movie_gross, on='tconst')"
      ],
      "execution_count": 95,
      "outputs": []
    },
    {
      "cell_type": "markdown",
      "metadata": {
        "id": "cDyZxcZcbSMQ"
      },
      "source": [
        "Junte title_basics con movie_gorss en aquellos que coincide en tconst en el mejor de los casos tenrdia 5043 o en su defecto menos, nunca un número mayor. "
      ]
    },
    {
      "cell_type": "code",
      "metadata": {
        "colab": {
          "base_uri": "https://localhost:8080/"
        },
        "id": "SLNWktXFbPIN",
        "outputId": "71841736-d895-4ffb-eac1-4ac40b1b806e"
      },
      "source": [
        "len(movies)"
      ],
      "execution_count": 96,
      "outputs": [
        {
          "output_type": "execute_result",
          "data": {
            "text/plain": [
              "4912"
            ]
          },
          "metadata": {
            "tags": []
          },
          "execution_count": 96
        }
      ]
    },
    {
      "cell_type": "markdown",
      "metadata": {
        "id": "uJPfPws-b0Xc"
      },
      "source": [
        "Nótese que en movies se agrego una nueva columna que es 'gross'"
      ]
    },
    {
      "cell_type": "code",
      "metadata": {
        "colab": {
          "base_uri": "https://localhost:8080/",
          "height": 195
        },
        "id": "h0M844zibtjx",
        "outputId": "24d28683-dff8-4203-a955-8362e8a43e9b"
      },
      "source": [
        "movies.head()"
      ],
      "execution_count": 97,
      "outputs": [
        {
          "output_type": "execute_result",
          "data": {
            "text/html": [
              "<div>\n",
              "<style scoped>\n",
              "    .dataframe tbody tr th:only-of-type {\n",
              "        vertical-align: middle;\n",
              "    }\n",
              "\n",
              "    .dataframe tbody tr th {\n",
              "        vertical-align: top;\n",
              "    }\n",
              "\n",
              "    .dataframe thead th {\n",
              "        text-align: right;\n",
              "    }\n",
              "</style>\n",
              "<table border=\"1\" class=\"dataframe\">\n",
              "  <thead>\n",
              "    <tr style=\"text-align: right;\">\n",
              "      <th></th>\n",
              "      <th>tconst</th>\n",
              "      <th>titleType</th>\n",
              "      <th>primaryTitle</th>\n",
              "      <th>originalTitle</th>\n",
              "      <th>isAdult</th>\n",
              "      <th>startYear</th>\n",
              "      <th>endYear</th>\n",
              "      <th>runtimeMinutes</th>\n",
              "      <th>genres</th>\n",
              "      <th>gross</th>\n",
              "    </tr>\n",
              "  </thead>\n",
              "  <tbody>\n",
              "    <tr>\n",
              "      <th>0</th>\n",
              "      <td>tt0006864</td>\n",
              "      <td>movie</td>\n",
              "      <td>Intolerance: Love's Struggle Throughout the Ages</td>\n",
              "      <td>Intolerance: Love's Struggle Throughout the Ages</td>\n",
              "      <td>0</td>\n",
              "      <td>1916</td>\n",
              "      <td>\\N</td>\n",
              "      <td>163.0</td>\n",
              "      <td>Drama,History</td>\n",
              "      <td>NaN</td>\n",
              "    </tr>\n",
              "    <tr>\n",
              "      <th>1</th>\n",
              "      <td>tt0011549</td>\n",
              "      <td>movie</td>\n",
              "      <td>Over the Hill to the Poorhouse</td>\n",
              "      <td>Over the Hill to the Poorhouse</td>\n",
              "      <td>0</td>\n",
              "      <td>1920</td>\n",
              "      <td>\\N</td>\n",
              "      <td>110.0</td>\n",
              "      <td>Crime,Drama</td>\n",
              "      <td>3000000.0</td>\n",
              "    </tr>\n",
              "    <tr>\n",
              "      <th>2</th>\n",
              "      <td>tt0015624</td>\n",
              "      <td>movie</td>\n",
              "      <td>The Big Parade</td>\n",
              "      <td>The Big Parade</td>\n",
              "      <td>0</td>\n",
              "      <td>1925</td>\n",
              "      <td>\\N</td>\n",
              "      <td>151.0</td>\n",
              "      <td>Drama,Romance,War</td>\n",
              "      <td>NaN</td>\n",
              "    </tr>\n",
              "    <tr>\n",
              "      <th>3</th>\n",
              "      <td>tt0017136</td>\n",
              "      <td>movie</td>\n",
              "      <td>Metropolis</td>\n",
              "      <td>Metropolis</td>\n",
              "      <td>0</td>\n",
              "      <td>1927</td>\n",
              "      <td>\\N</td>\n",
              "      <td>153.0</td>\n",
              "      <td>Drama,Sci-Fi</td>\n",
              "      <td>26435.0</td>\n",
              "    </tr>\n",
              "    <tr>\n",
              "      <th>4</th>\n",
              "      <td>tt0018737</td>\n",
              "      <td>movie</td>\n",
              "      <td>Pandora's Box</td>\n",
              "      <td>Die Büchse der Pandora</td>\n",
              "      <td>0</td>\n",
              "      <td>1929</td>\n",
              "      <td>\\N</td>\n",
              "      <td>109.0</td>\n",
              "      <td>Crime,Drama,Romance</td>\n",
              "      <td>9950.0</td>\n",
              "    </tr>\n",
              "  </tbody>\n",
              "</table>\n",
              "</div>"
            ],
            "text/plain": [
              "      tconst titleType  ...               genres      gross\n",
              "0  tt0006864     movie  ...        Drama,History        NaN\n",
              "1  tt0011549     movie  ...          Crime,Drama  3000000.0\n",
              "2  tt0015624     movie  ...    Drama,Romance,War        NaN\n",
              "3  tt0017136     movie  ...         Drama,Sci-Fi    26435.0\n",
              "4  tt0018737     movie  ...  Crime,Drama,Romance     9950.0\n",
              "\n",
              "[5 rows x 10 columns]"
            ]
          },
          "metadata": {
            "tags": []
          },
          "execution_count": 97
        }
      ]
    },
    {
      "cell_type": "code",
      "metadata": {
        "colab": {
          "base_uri": "https://localhost:8080/"
        },
        "id": "2YmrPKP2b7lx",
        "outputId": "7cfb0e9f-0938-44bb-f652-2630d732a4df"
      },
      "source": [
        "# Checkeamos no perder datos\n",
        "len(movies), len(movie_gross), len(title_basics)"
      ],
      "execution_count": 98,
      "outputs": [
        {
          "output_type": "execute_result",
          "data": {
            "text/plain": [
              "(4912, 5043, 701472)"
            ]
          },
          "metadata": {
            "tags": []
          },
          "execution_count": 98
        }
      ]
    },
    {
      "cell_type": "code",
      "metadata": {
        "id": "DMl_r2n1cApj"
      },
      "source": [
        "# Perdemos muchos datos.\n",
        "\n",
        "movies = title_basics.merge(movie_gross, on='tconst', how='left')"
      ],
      "execution_count": 99,
      "outputs": []
    },
    {
      "cell_type": "code",
      "metadata": {
        "colab": {
          "base_uri": "https://localhost:8080/"
        },
        "id": "wACUH_3ycGBA",
        "outputId": "6ce9050f-2ba4-483c-864b-a80718cff4c5"
      },
      "source": [
        "len(movies), len(movie_gross), len(title_basics)"
      ],
      "execution_count": 100,
      "outputs": [
        {
          "output_type": "execute_result",
          "data": {
            "text/plain": [
              "(701594, 5043, 701472)"
            ]
          },
          "metadata": {
            "tags": []
          },
          "execution_count": 100
        }
      ]
    },
    {
      "cell_type": "markdown",
      "metadata": {
        "id": "lzU75sOpGkHJ"
      },
      "source": [
        "Si yo solo tengo 5 mil peliculas que tengo el Gross, y si tengo ese dato por el motivo 'les fue bien', tengo un problema de sesgo de selección. Puedo controlar el dataset por la distibución de reinting. Es decir, cabe preguntarnos la siguente pregunta, la distibución de rating es igual entre el conjunto de datos para el cual conozco gross y para las que no lo conozco."
      ]
    },
    {
      "cell_type": "markdown",
      "metadata": {
        "id": "V-SqDzsKI0M8"
      },
      "source": [
        "Merge con Ratings"
      ]
    },
    {
      "cell_type": "code",
      "metadata": {
        "id": "coas2rHAcNiM"
      },
      "source": [
        "title_ratings = pd.read_csv(PATH / 'title.ratings.tsv.gz', sep='\\t')"
      ],
      "execution_count": 101,
      "outputs": []
    },
    {
      "cell_type": "code",
      "metadata": {
        "colab": {
          "base_uri": "https://localhost:8080/",
          "height": 195
        },
        "id": "qcYhHrxDI7EB",
        "outputId": "257f2d0a-b912-4d0e-8d25-592356412f66"
      },
      "source": [
        "movies_wr = movies.merge(title_ratings, on='tconst')\n",
        "movies_wr.head()"
      ],
      "execution_count": 102,
      "outputs": [
        {
          "output_type": "execute_result",
          "data": {
            "text/html": [
              "<div>\n",
              "<style scoped>\n",
              "    .dataframe tbody tr th:only-of-type {\n",
              "        vertical-align: middle;\n",
              "    }\n",
              "\n",
              "    .dataframe tbody tr th {\n",
              "        vertical-align: top;\n",
              "    }\n",
              "\n",
              "    .dataframe thead th {\n",
              "        text-align: right;\n",
              "    }\n",
              "</style>\n",
              "<table border=\"1\" class=\"dataframe\">\n",
              "  <thead>\n",
              "    <tr style=\"text-align: right;\">\n",
              "      <th></th>\n",
              "      <th>tconst</th>\n",
              "      <th>titleType</th>\n",
              "      <th>primaryTitle</th>\n",
              "      <th>originalTitle</th>\n",
              "      <th>isAdult</th>\n",
              "      <th>startYear</th>\n",
              "      <th>endYear</th>\n",
              "      <th>runtimeMinutes</th>\n",
              "      <th>genres</th>\n",
              "      <th>gross</th>\n",
              "      <th>averageRating</th>\n",
              "      <th>numVotes</th>\n",
              "    </tr>\n",
              "  </thead>\n",
              "  <tbody>\n",
              "    <tr>\n",
              "      <th>0</th>\n",
              "      <td>tt0000009</td>\n",
              "      <td>movie</td>\n",
              "      <td>Miss Jerry</td>\n",
              "      <td>Miss Jerry</td>\n",
              "      <td>0</td>\n",
              "      <td>1894</td>\n",
              "      <td>\\N</td>\n",
              "      <td>45.0</td>\n",
              "      <td>Romance</td>\n",
              "      <td>NaN</td>\n",
              "      <td>6.0</td>\n",
              "      <td>154</td>\n",
              "    </tr>\n",
              "    <tr>\n",
              "      <th>1</th>\n",
              "      <td>tt0000335</td>\n",
              "      <td>movie</td>\n",
              "      <td>Soldiers of the Cross</td>\n",
              "      <td>Soldiers of the Cross</td>\n",
              "      <td>0</td>\n",
              "      <td>1900</td>\n",
              "      <td>\\N</td>\n",
              "      <td>NaN</td>\n",
              "      <td>Biography,Drama</td>\n",
              "      <td>NaN</td>\n",
              "      <td>6.0</td>\n",
              "      <td>39</td>\n",
              "    </tr>\n",
              "    <tr>\n",
              "      <th>2</th>\n",
              "      <td>tt0000502</td>\n",
              "      <td>movie</td>\n",
              "      <td>Bohemios</td>\n",
              "      <td>Bohemios</td>\n",
              "      <td>0</td>\n",
              "      <td>1905</td>\n",
              "      <td>\\N</td>\n",
              "      <td>100.0</td>\n",
              "      <td>\\N</td>\n",
              "      <td>NaN</td>\n",
              "      <td>4.7</td>\n",
              "      <td>7</td>\n",
              "    </tr>\n",
              "    <tr>\n",
              "      <th>3</th>\n",
              "      <td>tt0000574</td>\n",
              "      <td>movie</td>\n",
              "      <td>The Story of the Kelly Gang</td>\n",
              "      <td>The Story of the Kelly Gang</td>\n",
              "      <td>0</td>\n",
              "      <td>1906</td>\n",
              "      <td>\\N</td>\n",
              "      <td>70.0</td>\n",
              "      <td>Biography,Crime,Drama</td>\n",
              "      <td>NaN</td>\n",
              "      <td>6.1</td>\n",
              "      <td>598</td>\n",
              "    </tr>\n",
              "    <tr>\n",
              "      <th>4</th>\n",
              "      <td>tt0000615</td>\n",
              "      <td>movie</td>\n",
              "      <td>Robbery Under Arms</td>\n",
              "      <td>Robbery Under Arms</td>\n",
              "      <td>0</td>\n",
              "      <td>1907</td>\n",
              "      <td>\\N</td>\n",
              "      <td>NaN</td>\n",
              "      <td>Drama</td>\n",
              "      <td>NaN</td>\n",
              "      <td>4.5</td>\n",
              "      <td>14</td>\n",
              "    </tr>\n",
              "  </tbody>\n",
              "</table>\n",
              "</div>"
            ],
            "text/plain": [
              "      tconst titleType  ... averageRating numVotes\n",
              "0  tt0000009     movie  ...           6.0      154\n",
              "1  tt0000335     movie  ...           6.0       39\n",
              "2  tt0000502     movie  ...           4.7        7\n",
              "3  tt0000574     movie  ...           6.1      598\n",
              "4  tt0000615     movie  ...           4.5       14\n",
              "\n",
              "[5 rows x 12 columns]"
            ]
          },
          "metadata": {
            "tags": []
          },
          "execution_count": 102
        }
      ]
    },
    {
      "cell_type": "code",
      "metadata": {
        "colab": {
          "base_uri": "https://localhost:8080/"
        },
        "id": "0yLDmO82JKCP",
        "outputId": "56a76ca7-8f01-4f7f-dc37-a64a318a7d17"
      },
      "source": [
        "# Checkeamos que no perdimos data en el join\n",
        "len(movies_wr), len(movies), len(title_ratings)"
      ],
      "execution_count": 103,
      "outputs": [
        {
          "output_type": "execute_result",
          "data": {
            "text/plain": [
              "(307170, 701594, 1093291)"
            ]
          },
          "metadata": {
            "tags": []
          },
          "execution_count": 103
        }
      ]
    },
    {
      "cell_type": "code",
      "metadata": {
        "colab": {
          "base_uri": "https://localhost:8080/",
          "height": 517
        },
        "id": "rHzv9TPJJLdW",
        "outputId": "87b0fd22-a8e9-45fd-8281-9694018e2bca"
      },
      "source": [
        "plt.boxplot(\n",
        "    [movies_wr[movies_wr.gross.isna()].averageRating,\n",
        "     movies_wr[~movies_wr.gross.isna()].averageRating]\n",
        "    )\n",
        "#Recordar que el .isna() te devuelve donde no hay datos\n",
        "#Cuando no tengo el groos\n",
        "#Cuando tengo el gross"
      ],
      "execution_count": 104,
      "outputs": [
        {
          "output_type": "execute_result",
          "data": {
            "text/plain": [
              "{'boxes': [<matplotlib.lines.Line2D at 0x7fe804644128>,\n",
              "  <matplotlib.lines.Line2D at 0x7fe8045d7d30>],\n",
              " 'caps': [<matplotlib.lines.Line2D at 0x7fe804644828>,\n",
              "  <matplotlib.lines.Line2D at 0x7fe8045d7390>,\n",
              "  <matplotlib.lines.Line2D at 0x7fe8045effd0>,\n",
              "  <matplotlib.lines.Line2D at 0x7fe804605390>],\n",
              " 'fliers': [<matplotlib.lines.Line2D at 0x7fe8045d7e48>,\n",
              "  <matplotlib.lines.Line2D at 0x7fe804605d30>],\n",
              " 'means': [],\n",
              " 'medians': [<matplotlib.lines.Line2D at 0x7fe8045d7898>,\n",
              "  <matplotlib.lines.Line2D at 0x7fe804605898>],\n",
              " 'whiskers': [<matplotlib.lines.Line2D at 0x7fe804644550>,\n",
              "  <matplotlib.lines.Line2D at 0x7fe804644a58>,\n",
              "  <matplotlib.lines.Line2D at 0x7fe8045ef5c0>,\n",
              "  <matplotlib.lines.Line2D at 0x7fe8045efa20>]}"
            ]
          },
          "metadata": {
            "tags": []
          },
          "execution_count": 104
        },
        {
          "output_type": "display_data",
          "data": {
            "image/png": "[encoded data removed]",
            "text/plain": [
              "<Figure size 432x288 with 1 Axes>"
            ]
          },
          "metadata": {
            "tags": [],
            "needs_background": "light"
          }
        }
      ]
    },
    {
      "cell_type": "markdown",
      "metadata": {
        "id": "TFshrz6HLViA"
      },
      "source": [
        "A priori pareceria ser que la mediana es igual, si hay diferencia en los valores extremos. El boxplot que esta a la izquierda refiere cuando no tengo info de gross y el de la derecha es cuando si tengo esa información. Cuando no tengo la info de gross esta mas dispersa la info asi como hay muchas peliculas con bajo puntaje (si son malas nadie se habra tomado el trabajo de guardar esa info). Al eliminar datos, por ejemplo, las que no tenemos info de gross, ¿que sesgo esta imprimiendo en nuestros datos?, ¿como afectara las decisiones que tomemos?, puede generar que cosas malas pensemos que son buenas porque en realidad el modelo nunca las vio. Tal vez si el modelo logra poder discriminar correctamente o tal vez no. Asumimos el riesgo y luego lo controlamos  o no vamos por este camino. Hay una cantidad considerable de peliculas 'malas' que estan siendo censuradas por gross."
      ]
    },
    {
      "cell_type": "markdown",
      "metadata": {
        "id": "DgAJD3pENqzs"
      },
      "source": [
        "# sanity check"
      ]
    },
    {
      "cell_type": "code",
      "metadata": {
        "colab": {
          "base_uri": "https://localhost:8080/"
        },
        "id": "WI3l53rfNRqP",
        "outputId": "9d4db30b-59cc-4a5c-8f29-49fea0cf3e9d"
      },
      "source": [
        "movies[movies.runtimeMinutes > 3 * 60].gross.isna().sum() / n_long"
      ],
      "execution_count": 105,
      "outputs": [
        {
          "output_type": "execute_result",
          "data": {
            "text/plain": [
              "0.9907035175879397"
            ]
          },
          "metadata": {
            "tags": []
          },
          "execution_count": 105
        }
      ]
    },
    {
      "cell_type": "code",
      "metadata": {
        "colab": {
          "base_uri": "https://localhost:8080/"
        },
        "id": "OY4o2FzyN0X_",
        "outputId": "4e6abffe-5b81-4753-8e53-536d6293cd27"
      },
      "source": [
        "# idem para 2 horas\n",
        "movies[movies.runtimeMinutes > 2 * 60].gross.isna().sum() / (movies.runtimeMinutes > 2 * 60).sum()"
      ],
      "execution_count": 106,
      "outputs": [
        {
          "output_type": "execute_result",
          "data": {
            "text/plain": [
              "0.9751107531212243"
            ]
          },
          "metadata": {
            "tags": []
          },
          "execution_count": 106
        }
      ]
    },
    {
      "cell_type": "code",
      "metadata": {
        "id": "6OAtonVhN3Zr"
      },
      "source": [
        "movies = movies[movies.runtimeMinutes <= 2 * 60].copy()"
      ],
      "execution_count": 107,
      "outputs": []
    },
    {
      "cell_type": "code",
      "metadata": {
        "colab": {
          "base_uri": "https://localhost:8080/",
          "height": 265
        },
        "id": "TQXFvBSoN67E",
        "outputId": "667b5dd1-2c69-4f45-e000-a9b9f6f9b6e9"
      },
      "source": [
        "movies.runtimeMinutes.hist(bins=30);"
      ],
      "execution_count": 108,
      "outputs": [
        {
          "output_type": "display_data",
          "data": {
            "image/png": "[encoded data removed]",
            "text/plain": [
              "<Figure size 432x288 with 1 Axes>"
            ]
          },
          "metadata": {
            "tags": [],
            "needs_background": "light"
          }
        }
      ]
    },
    {
      "cell_type": "markdown",
      "metadata": {
        "id": "fROlNo2pOIQt"
      },
      "source": [
        "Bastante Bien, coherente con la duracón esperada de una pelicula, se acumula mayor cantidad luego de la hora de duración "
      ]
    },
    {
      "cell_type": "code",
      "metadata": {
        "id": "3QIkN5QfOVAM"
      },
      "source": [
        "from itertools import chain\n",
        "from collections import Counter\n",
        "\n",
        "def parse_genres(genres):\n",
        "    if isinstance(genres, float) or genres == r'\\N': return ['no-genre']\n",
        "    else: return genres.split(',')\n",
        "    \n",
        "\n",
        "movies['genres'] = movies.genres.apply(parse_genres)"
      ],
      "execution_count": 109,
      "outputs": []
    },
    {
      "cell_type": "code",
      "metadata": {
        "colab": {
          "base_uri": "https://localhost:8080/"
        },
        "id": "lRR1E-f6PTPR",
        "outputId": "1b8fdd72-ea15-43a3-9e9d-1ee530b9aca3"
      },
      "source": [
        "Counter(chain(*movies.genres.tolist()))\n"
      ],
      "execution_count": 110,
      "outputs": [
        {
          "output_type": "execute_result",
          "data": {
            "text/plain": [
              "Counter({'Action': 26443,\n",
              "         'Adult': 5272,\n",
              "         'Adventure': 18555,\n",
              "         'Animation': 5806,\n",
              "         'Biography': 13512,\n",
              "         'Comedy': 82088,\n",
              "         'Crime': 26323,\n",
              "         'Documentary': 97630,\n",
              "         'Drama': 144304,\n",
              "         'Family': 14339,\n",
              "         'Fantasy': 9192,\n",
              "         'Film-Noir': 783,\n",
              "         'Game-Show': 253,\n",
              "         'History': 10905,\n",
              "         'Horror': 19782,\n",
              "         'Music': 15069,\n",
              "         'Musical': 7147,\n",
              "         'Mystery': 12021,\n",
              "         'News': 1949,\n",
              "         'Reality-TV': 1070,\n",
              "         'Romance': 30185,\n",
              "         'Sci-Fi': 7374,\n",
              "         'Short': 744,\n",
              "         'Sport': 5778,\n",
              "         'Talk-Show': 874,\n",
              "         'Thriller': 23918,\n",
              "         'War': 6531,\n",
              "         'Western': 5497,\n",
              "         'no-genre': 25372})"
            ]
          },
          "metadata": {
            "tags": []
          },
          "execution_count": 110
        }
      ]
    },
    {
      "cell_type": "markdown",
      "metadata": {
        "id": "8-xnd5ZVP3rI"
      },
      "source": [
        "Okey, me llama la atencón la cantidad de 'no-genre'. Comparemos distribución con algun genero clásico. "
      ]
    },
    {
      "cell_type": "code",
      "metadata": {
        "colab": {
          "base_uri": "https://localhost:8080/",
          "height": 265
        },
        "id": "1nnFzF4fPg4U",
        "outputId": "b234cd61-81e6-43ce-e013-932db3c9d02d"
      },
      "source": [
        "movies[movies.genres.apply(lambda x: 'no-genre' in x)].runtimeMinutes.hist(bins=30);"
      ],
      "execution_count": 111,
      "outputs": [
        {
          "output_type": "display_data",
          "data": {
            "image/png": "[encoded data removed]",
            "text/plain": [
              "<Figure size 432x288 with 1 Axes>"
            ]
          },
          "metadata": {
            "tags": [],
            "needs_background": "light"
          }
        }
      ]
    },
    {
      "cell_type": "markdown",
      "metadata": {
        "id": "O8MVba0ERRAV"
      },
      "source": [
        "Me hubiese sonado las alarmas si tuviera una cola a la izquierda"
      ]
    },
    {
      "cell_type": "code",
      "metadata": {
        "colab": {
          "base_uri": "https://localhost:8080/",
          "height": 265
        },
        "id": "gFgMBGXAPnzI",
        "outputId": "e4cf7a0f-4cf5-4684-b44f-6ca18d99ec06"
      },
      "source": [
        "movies[movies.genres.apply(lambda x: 'Action' in x)].runtimeMinutes.hist(bins=30);"
      ],
      "execution_count": 112,
      "outputs": [
        {
          "output_type": "display_data",
          "data": {
            "image/png": "[encoded data removed]",
            "text/plain": [
              "<Figure size 432x288 with 1 Axes>"
            ]
          },
          "metadata": {
            "tags": [],
            "needs_background": "light"
          }
        }
      ]
    },
    {
      "cell_type": "markdown",
      "metadata": {
        "id": "rRVQzkkUWUcQ"
      },
      "source": [
        "En resumen este analisis pretende mostrar como abordar una primera exploración a una base de datos y poder llegar a algun insight de lo como esta la información presentada. Muchas veces con que datos permanecer y con cuales no, es una decisión compleja ya que en ese proceso se pueden incurrir en errores que sesgen nuestras conclusiones. "
      ]
    },
    {
      "cell_type": "markdown",
      "metadata": {
        "id": "5IRsD6aeXGX2"
      },
      "source": [
        ""
      ]
    }
  ]
}